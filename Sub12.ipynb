{
 "cells": [
  {
   "cell_type": "code",
   "execution_count": 1,
   "id": "fcaae713",
   "metadata": {},
   "outputs": [],
   "source": [
    "import tensorflow as tf\n",
    "from tensorflow import keras\n",
    "from tensorflow.keras.models import Sequential, Model\n",
    "from tensorflow.keras.datasets import imdb\n",
    "from tensorflow.keras.layers import Dense, LSTM, GRU, Embedding, Input\n",
    "from tensorflow.keras.preprocessing.text import Tokenizer\n",
    "from tensorflow.keras.preprocessing.sequence import pad_sequences\n",
    "from sklearn.model_selection import train_test_split\n",
    "from tensorflow.keras.callbacks import EarlyStopping, ModelCheckpoint\n",
    "from tensorflow.keras.optimizers import Adam\n",
    "import pandas as pd\n",
    "import numpy as np\n",
    "import os\n",
    "\n",
    "def get_glove_vectors(filename=\"data/glove.6B.100d.txt\"):\n",
    "    ## function from https://campus.datacamp.com/courses/recurrent-neural-networks-for-language-modeling-in-python/rnn-architecture?ex=7\n",
    "    # Get all word vectors from pre-trained model\n",
    "    glove_vector_dict = {}\n",
    "    with open(filename, encoding=\"UTF-8\") as f:\n",
    "        for line in f:\n",
    "            values = line.split()\n",
    "            word = values[0]\n",
    "            coefs = values[1:]\n",
    "            glove_vector_dict[word] = np.asarray(coefs, dtype='float32')\n",
    "    return glove_vector_dict"
   ]
  },
  {
   "cell_type": "code",
   "execution_count": 2,
   "id": "7e7bd002",
   "metadata": {},
   "outputs": [
    {
     "name": "stdout",
     "output_type": "stream",
     "text": [
      "2.9.1\n",
      "2.9.0\n"
     ]
    }
   ],
   "source": [
    "print(tf.__version__)\n",
    "print(keras.__version__)"
   ]
  },
  {
   "cell_type": "code",
   "execution_count": 3,
   "id": "e0f40452",
   "metadata": {},
   "outputs": [
    {
     "name": "stdout",
     "output_type": "stream",
     "text": [
      "elapsed seconds = 10.03065276145935\n"
     ]
    },
    {
     "data": {
      "text/plain": [
       "dict"
      ]
     },
     "execution_count": 3,
     "metadata": {},
     "output_type": "execute_result"
    }
   ],
   "source": [
    "import time\n",
    "start = time.time()\n",
    "\n",
    "glove_vector_dict = get_glove_vectors()\n",
    "\n",
    "end = time.time()\n",
    "print(f'elapsed seconds = {end - start}')\n",
    "type(glove_vector_dict)"
   ]
  },
  {
   "cell_type": "code",
   "execution_count": 4,
   "id": "259b64c0",
   "metadata": {},
   "outputs": [
    {
     "data": {
      "text/plain": [
       "array([-0.038194, -0.24487 ,  0.72812 , -0.39961 ,  0.083172,  0.043953,\n",
       "       -0.39141 ,  0.3344  , -0.57545 ,  0.087459,  0.28787 , -0.06731 ,\n",
       "        0.30906 , -0.26384 , -0.13231 , -0.20757 ,  0.33395 , -0.33848 ,\n",
       "       -0.31743 , -0.48336 ,  0.1464  , -0.37304 ,  0.34577 ,  0.052041,\n",
       "        0.44946 , -0.46971 ,  0.02628 , -0.54155 , -0.15518 , -0.14107 ,\n",
       "       -0.039722,  0.28277 ,  0.14393 ,  0.23464 , -0.31021 ,  0.086173,\n",
       "        0.20397 ,  0.52624 ,  0.17164 , -0.082378, -0.71787 , -0.41531 ,\n",
       "        0.20335 , -0.12763 ,  0.41367 ,  0.55187 ,  0.57908 , -0.33477 ,\n",
       "       -0.36559 , -0.54857 , -0.062892,  0.26584 ,  0.30205 ,  0.99775 ,\n",
       "       -0.80481 , -3.0243  ,  0.01254 , -0.36942 ,  2.2167  ,  0.72201 ,\n",
       "       -0.24978 ,  0.92136 ,  0.034514,  0.46745 ,  1.1079  , -0.19358 ,\n",
       "       -0.074575,  0.23353 , -0.052062, -0.22044 ,  0.057162, -0.15806 ,\n",
       "       -0.30798 , -0.41625 ,  0.37972 ,  0.15006 , -0.53212 , -0.2055  ,\n",
       "       -1.2526  ,  0.071624,  0.70565 ,  0.49744 , -0.42063 ,  0.26148 ,\n",
       "       -1.538   , -0.30223 , -0.073438, -0.28312 ,  0.37104 , -0.25217 ,\n",
       "        0.016215, -0.017099, -0.38984 ,  0.87424 , -0.72569 , -0.51058 ,\n",
       "       -0.52028 , -0.1459  ,  0.8278  ,  0.27062 ], dtype=float32)"
      ]
     },
     "execution_count": 4,
     "metadata": {},
     "output_type": "execute_result"
    }
   ],
   "source": [
    "glove_vector_dict['the']"
   ]
  },
  {
   "cell_type": "code",
   "execution_count": 5,
   "id": "ecbe3d38",
   "metadata": {},
   "outputs": [
    {
     "data": {
      "text/html": [
       "<div>\n",
       "<style scoped>\n",
       "    .dataframe tbody tr th:only-of-type {\n",
       "        vertical-align: middle;\n",
       "    }\n",
       "\n",
       "    .dataframe tbody tr th {\n",
       "        vertical-align: top;\n",
       "    }\n",
       "\n",
       "    .dataframe thead th {\n",
       "        text-align: right;\n",
       "    }\n",
       "</style>\n",
       "<table border=\"1\" class=\"dataframe\">\n",
       "  <thead>\n",
       "    <tr style=\"text-align: right;\">\n",
       "      <th></th>\n",
       "      <th>id</th>\n",
       "      <th>keyword</th>\n",
       "      <th>location</th>\n",
       "      <th>text</th>\n",
       "      <th>target</th>\n",
       "    </tr>\n",
       "  </thead>\n",
       "  <tbody>\n",
       "    <tr>\n",
       "      <th>0</th>\n",
       "      <td>1</td>\n",
       "      <td>NaN</td>\n",
       "      <td>NaN</td>\n",
       "      <td>Our Deeds are the Reason of this #earthquake M...</td>\n",
       "      <td>1</td>\n",
       "    </tr>\n",
       "    <tr>\n",
       "      <th>1</th>\n",
       "      <td>4</td>\n",
       "      <td>NaN</td>\n",
       "      <td>NaN</td>\n",
       "      <td>Forest fire near La Ronge Sask. Canada</td>\n",
       "      <td>1</td>\n",
       "    </tr>\n",
       "    <tr>\n",
       "      <th>2</th>\n",
       "      <td>5</td>\n",
       "      <td>NaN</td>\n",
       "      <td>NaN</td>\n",
       "      <td>All residents asked to 'shelter in place' are ...</td>\n",
       "      <td>1</td>\n",
       "    </tr>\n",
       "    <tr>\n",
       "      <th>3</th>\n",
       "      <td>6</td>\n",
       "      <td>NaN</td>\n",
       "      <td>NaN</td>\n",
       "      <td>13,000 people receive #wildfires evacuation or...</td>\n",
       "      <td>1</td>\n",
       "    </tr>\n",
       "    <tr>\n",
       "      <th>4</th>\n",
       "      <td>7</td>\n",
       "      <td>NaN</td>\n",
       "      <td>NaN</td>\n",
       "      <td>Just got sent this photo from Ruby #Alaska as ...</td>\n",
       "      <td>1</td>\n",
       "    </tr>\n",
       "    <tr>\n",
       "      <th>...</th>\n",
       "      <td>...</td>\n",
       "      <td>...</td>\n",
       "      <td>...</td>\n",
       "      <td>...</td>\n",
       "      <td>...</td>\n",
       "    </tr>\n",
       "    <tr>\n",
       "      <th>7608</th>\n",
       "      <td>10869</td>\n",
       "      <td>NaN</td>\n",
       "      <td>NaN</td>\n",
       "      <td>Two giant cranes holding a bridge collapse int...</td>\n",
       "      <td>1</td>\n",
       "    </tr>\n",
       "    <tr>\n",
       "      <th>7609</th>\n",
       "      <td>10870</td>\n",
       "      <td>NaN</td>\n",
       "      <td>NaN</td>\n",
       "      <td>@aria_ahrary @TheTawniest The out of control w...</td>\n",
       "      <td>1</td>\n",
       "    </tr>\n",
       "    <tr>\n",
       "      <th>7610</th>\n",
       "      <td>10871</td>\n",
       "      <td>NaN</td>\n",
       "      <td>NaN</td>\n",
       "      <td>M1.94 [01:04 UTC]?5km S of Volcano Hawaii. htt...</td>\n",
       "      <td>1</td>\n",
       "    </tr>\n",
       "    <tr>\n",
       "      <th>7611</th>\n",
       "      <td>10872</td>\n",
       "      <td>NaN</td>\n",
       "      <td>NaN</td>\n",
       "      <td>Police investigating after an e-bike collided ...</td>\n",
       "      <td>1</td>\n",
       "    </tr>\n",
       "    <tr>\n",
       "      <th>7612</th>\n",
       "      <td>10873</td>\n",
       "      <td>NaN</td>\n",
       "      <td>NaN</td>\n",
       "      <td>The Latest: More Homes Razed by Northern Calif...</td>\n",
       "      <td>1</td>\n",
       "    </tr>\n",
       "  </tbody>\n",
       "</table>\n",
       "<p>7613 rows × 5 columns</p>\n",
       "</div>"
      ],
      "text/plain": [
       "         id keyword location  \\\n",
       "0         1     NaN      NaN   \n",
       "1         4     NaN      NaN   \n",
       "2         5     NaN      NaN   \n",
       "3         6     NaN      NaN   \n",
       "4         7     NaN      NaN   \n",
       "...     ...     ...      ...   \n",
       "7608  10869     NaN      NaN   \n",
       "7609  10870     NaN      NaN   \n",
       "7610  10871     NaN      NaN   \n",
       "7611  10872     NaN      NaN   \n",
       "7612  10873     NaN      NaN   \n",
       "\n",
       "                                                   text  target  \n",
       "0     Our Deeds are the Reason of this #earthquake M...       1  \n",
       "1                Forest fire near La Ronge Sask. Canada       1  \n",
       "2     All residents asked to 'shelter in place' are ...       1  \n",
       "3     13,000 people receive #wildfires evacuation or...       1  \n",
       "4     Just got sent this photo from Ruby #Alaska as ...       1  \n",
       "...                                                 ...     ...  \n",
       "7608  Two giant cranes holding a bridge collapse int...       1  \n",
       "7609  @aria_ahrary @TheTawniest The out of control w...       1  \n",
       "7610  M1.94 [01:04 UTC]?5km S of Volcano Hawaii. htt...       1  \n",
       "7611  Police investigating after an e-bike collided ...       1  \n",
       "7612  The Latest: More Homes Razed by Northern Calif...       1  \n",
       "\n",
       "[7613 rows x 5 columns]"
      ]
     },
     "execution_count": 5,
     "metadata": {},
     "output_type": "execute_result"
    }
   ],
   "source": [
    "import pandas as pd\n",
    "import numpy as np\n",
    "\n",
    "df_train = pd.read_csv('data/train.csv')\n",
    "df_test = pd.read_csv('data/test.csv')\n",
    "df_train"
   ]
  },
  {
   "cell_type": "code",
   "execution_count": 6,
   "id": "1441beec",
   "metadata": {},
   "outputs": [],
   "source": [
    "## Previous models ignored the keyword column in the training and test data.\n",
    "\n",
    "## To incorporate the keyword, we will try just appending the keywords (when present) as\n",
    "## an additional one or two tokens at the end of each tweet text.\n",
    "\n",
    "## This function modifies the pandas dataframe df by\n",
    "## appending the keyword (if present) to the end of the tweet.\n",
    "## Keywords like 'airplane%20accident' are split into two words.\n",
    "## It also writes the modified dataframe to a csv file (for debugging).\n",
    "def add_keyword(df, filename=None):\n",
    "    df.loc[df['keyword'].isna()==False,'text'] = df['text'] + ' ' + df['keyword'].str.replace('%20',' ')\n",
    "    if filename:\n",
    "        df.to_csv(f'data/{filename}',index=False)\n",
    "\n",
    "add_keyword(df_train, filename='df_train.csv')\n",
    "add_keyword(df_test, filename='df_test.csv')"
   ]
  },
  {
   "cell_type": "code",
   "execution_count": 7,
   "id": "64270d33",
   "metadata": {},
   "outputs": [
    {
     "name": "stdout",
     "output_type": "stream",
     "text": [
      "      id              keyword   location  \\\n",
      "161  232  airplane%20accident  Havenford   \n",
      "\n",
      "                                                  text  target  \n",
      "161  + Nicole Fletcher one of a victim of crashed a...       1  \n"
     ]
    },
    {
     "data": {
      "text/plain": [
       "\"+ Nicole Fletcher one of a victim of crashed airplane few times ago. \\n\\nThe accident left a little bit trauma for her. Although she's \\n\\n+ airplane accident\""
      ]
     },
     "execution_count": 7,
     "metadata": {},
     "output_type": "execute_result"
    }
   ],
   "source": [
    "s1 = df_train[df_train['id']==232]\n",
    "print(s1)\n",
    "s2 = df_train.iloc[161,3]\n",
    "s2"
   ]
  },
  {
   "cell_type": "code",
   "execution_count": 8,
   "id": "3490f0e6",
   "metadata": {},
   "outputs": [
    {
     "data": {
      "text/plain": [
       "0.4296597924602653"
      ]
     },
     "execution_count": 8,
     "metadata": {},
     "output_type": "execute_result"
    }
   ],
   "source": [
    "df_train['target'].agg(sum)/len(df_train)"
   ]
  },
  {
   "cell_type": "code",
   "execution_count": 9,
   "id": "5aec332f",
   "metadata": {},
   "outputs": [],
   "source": [
    "import re\n",
    "\n",
    "def clean_up_tweet(tweet):\n",
    "    \"\"\"\n",
    "    Clean up the content of one tweet, removing punctuation and numbers. \n",
    "    \n",
    "    Parameters:\n",
    "    tweet(str):The text of the tweet\n",
    "    \n",
    "    Returns:\n",
    "    word_list: A list of pure alphabetic words in lower case\n",
    "    \n",
    "    \"\"\"\n",
    "    ## Remove all characters execept alphabetic chars and space,\n",
    "    ## convert to lower case and split on space.\n",
    "    word_list = re.sub('[^A-Za-z ]+','',tweet).lower().split(' ')\n",
    "    return word_list\n",
    "    "
   ]
  },
  {
   "cell_type": "code",
   "execution_count": 10,
   "id": "a049804d",
   "metadata": {},
   "outputs": [
    {
     "data": {
      "text/plain": [
       "['',\n",
       " 'nicole',\n",
       " 'fletcher',\n",
       " 'one',\n",
       " 'of',\n",
       " 'a',\n",
       " 'victim',\n",
       " 'of',\n",
       " 'crashed',\n",
       " 'airplane',\n",
       " 'few',\n",
       " 'times',\n",
       " 'ago',\n",
       " 'the',\n",
       " 'accident',\n",
       " 'left',\n",
       " 'a',\n",
       " 'little',\n",
       " 'bit',\n",
       " 'trauma',\n",
       " 'for',\n",
       " 'her',\n",
       " 'although',\n",
       " 'shes',\n",
       " '',\n",
       " 'airplane',\n",
       " 'accident']"
      ]
     },
     "execution_count": 10,
     "metadata": {},
     "output_type": "execute_result"
    }
   ],
   "source": [
    "clean_up_tweet(s2)"
   ]
  },
  {
   "cell_type": "code",
   "execution_count": 11,
   "id": "6b292b91",
   "metadata": {},
   "outputs": [
    {
     "name": "stdout",
     "output_type": "stream",
     "text": [
      "(6090, 5)\n",
      "(1523, 5)\n"
     ]
    }
   ],
   "source": [
    "train, valid = train_test_split(df_train, train_size=0.8, shuffle=True, random_state=42)\n",
    "print(train.shape)\n",
    "print(valid.shape)"
   ]
  },
  {
   "cell_type": "code",
   "execution_count": 12,
   "id": "1a4aff65",
   "metadata": {},
   "outputs": [
    {
     "name": "stdout",
     "output_type": "stream",
     "text": [
      "(6090,)\n",
      "(1523,)\n",
      "(3263,)\n"
     ]
    },
    {
     "data": {
      "text/plain": [
       "pandas.core.series.Series"
      ]
     },
     "execution_count": 12,
     "metadata": {},
     "output_type": "execute_result"
    }
   ],
   "source": [
    "train_x = train['text'].map(clean_up_tweet)\n",
    "valid_x = valid['text'].map(clean_up_tweet)\n",
    "test_x = df_test['text'].map(clean_up_tweet)\n",
    "\n",
    "print(train_x.shape)\n",
    "print(valid_x.shape)\n",
    "print(test_x.shape)\n",
    "type(train_x)"
   ]
  },
  {
   "cell_type": "code",
   "execution_count": 13,
   "id": "e0cf5d9e",
   "metadata": {},
   "outputs": [
    {
     "name": "stdout",
     "output_type": "stream",
     "text": [
      "[1. 0. 1. 1. 0.]\n",
      "[0. 0. 0. 1. 1.]\n",
      "0.43054187192118226\n",
      "0.4261326329612607\n"
     ]
    }
   ],
   "source": [
    "train_y = np.array(train['target'], dtype=np.float32)\n",
    "valid_y = np.array(valid['target'], dtype=np.float32)\n",
    "print(train_y[:5])\n",
    "print(train_y[-5:])\n",
    "print(np.sum(train_y)/len(train_y))\n",
    "print(np.sum(valid_y)/len(valid_y))"
   ]
  },
  {
   "cell_type": "code",
   "execution_count": null,
   "id": "3c8489df",
   "metadata": {},
   "outputs": [],
   "source": []
  },
  {
   "cell_type": "code",
   "execution_count": 14,
   "id": "0b7514fe",
   "metadata": {},
   "outputs": [
    {
     "name": "stdout",
     "output_type": "stream",
     "text": [
      "55\n",
      "31\n",
      "35\n"
     ]
    }
   ],
   "source": [
    "train['tweet_word_counts'] = [len(x) for x in train_x]\n",
    "valid['tweet_word_counts'] = [len(x) for x in valid_x]\n",
    "df_test['tweet_word_counts'] = [len(x) for x in test_x]\n",
    "print(np.max(train['tweet_word_counts']) )\n",
    "print(np.max(valid['tweet_word_counts']) )\n",
    "print(np.max(df_test['tweet_word_counts']) )"
   ]
  },
  {
   "cell_type": "code",
   "execution_count": 15,
   "id": "afb41084",
   "metadata": {},
   "outputs": [],
   "source": [
    "def glove_word_embeddings(word_lists, pad_to=56):\n",
    "    ## We plan to replace all the words in the tweets\n",
    "    ## with embeddings from the GloVe dictionary, skipping\n",
    "    ## any words not found, and also padding the sequence \n",
    "    ## of embeddings to a fixed length.\n",
    "    \n",
    "    ## If none of the words match for a given tweet we will substitute\n",
    "    ## a with place holder vector of one word, \"neutral\".\n",
    "    d = glove_vector_dict\n",
    "    neutral = d[\"neutral\"]\n",
    "    placeHolder = np.array([neutral])\n",
    "    padNeutral = pad_sequences(placeHolder.T, pad_to, dtype='float32')\n",
    "    ## print('padNeutral',padNeutral)\n",
    "    outer = []\n",
    "    for word_list in word_lists:\n",
    "        enc_list = []\n",
    "        for word in word_list:\n",
    "            ## print(word)\n",
    "            if(type(d.get(word)) is np.ndarray):\n",
    "                enc_list.append(d.get(word))\n",
    "                ## print(d.get(word))\n",
    "        if(len(enc_list) > 0):\n",
    "            enc_array = np.array(enc_list)\n",
    "#             print('shape: ',enc_array.shape)\n",
    "#             print('enc_array = ',enc_array)\n",
    "#             print('enc_array.T', enc_array.T)\n",
    "            pad = pad_sequences(enc_array.T, pad_to, dtype='float32')\n",
    "#             print('pad',pad)\n",
    "            outer.append(pad.T)\n",
    "#             print('outer shape',outer.shape)\n",
    "#             print('outer', outer)\n",
    "        else:\n",
    "            outer.append(padNeutral.T)\n",
    "    return np.array(outer)"
   ]
  },
  {
   "cell_type": "code",
   "execution_count": 16,
   "id": "6a15799f",
   "metadata": {},
   "outputs": [
    {
     "name": "stdout",
     "output_type": "stream",
     "text": [
      "(6090,)\n",
      "(1523,)\n",
      "(3263,)\n"
     ]
    }
   ],
   "source": [
    "print (train_x.shape)\n",
    "print (valid_x.shape)\n",
    "print (test_x.shape)"
   ]
  },
  {
   "cell_type": "code",
   "execution_count": null,
   "id": "f7ebf9cf",
   "metadata": {},
   "outputs": [],
   "source": []
  },
  {
   "cell_type": "code",
   "execution_count": 17,
   "id": "251d7952",
   "metadata": {},
   "outputs": [
    {
     "name": "stdout",
     "output_type": "stream",
     "text": [
      "elapsed seconds = 2.0369720458984375\n",
      "(6090, 56, 100)\n",
      "(1523, 56, 100)\n",
      "(3263, 56, 100)\n"
     ]
    }
   ],
   "source": [
    "\n",
    "start = time.time()\n",
    "X_train = glove_word_embeddings(train_x)\n",
    "X_valid = glove_word_embeddings(valid_x)\n",
    "X_test = glove_word_embeddings(test_x)\n",
    "end = time.time()\n",
    "print(f'elapsed seconds = {end - start}')\n",
    "print(X_train.shape)\n",
    "print(X_valid.shape)\n",
    "print(X_test.shape)"
   ]
  },
  {
   "cell_type": "code",
   "execution_count": 18,
   "id": "1e0b86d9",
   "metadata": {},
   "outputs": [
    {
     "name": "stdout",
     "output_type": "stream",
     "text": [
      "Model: \"model\"\n",
      "_________________________________________________________________\n",
      " Layer (type)                Output Shape              Param #   \n",
      "=================================================================\n",
      " input_1 (InputLayer)        [(None, None, 100)]       0         \n",
      "                                                                 \n",
      " bidirectional (Bidirectiona  (None, None, 128)        84480     \n",
      " l)                                                              \n",
      "                                                                 \n",
      " bidirectional_1 (Bidirectio  (None, None, 128)        98816     \n",
      " nal)                                                            \n",
      "                                                                 \n",
      " bidirectional_2 (Bidirectio  (None, 128)              98816     \n",
      " nal)                                                            \n",
      "                                                                 \n",
      " dense (Dense)               (None, 1)                 129       \n",
      "                                                                 \n",
      "=================================================================\n",
      "Total params: 282,241\n",
      "Trainable params: 282,241\n",
      "Non-trainable params: 0\n",
      "_________________________________________________________________\n"
     ]
    }
   ],
   "source": [
    "DROPOUT = 0.3\n",
    "UNITS_PER_LAYER = 64\n",
    "\n",
    "## Try switching to a Bidirectional LSTM model, as in this example\n",
    "## https://keras.io/examples/nlp/bidirectional_lstm_imdb/\n",
    "\n",
    "from tensorflow import keras\n",
    "from tensorflow.keras import layers\n",
    "\n",
    "inputs = keras.Input(shape=(None, 100) )\n",
    "x = layers.Bidirectional(LSTM(units=UNITS_PER_LAYER, return_sequences=True, dropout=DROPOUT))(inputs)\n",
    "x = layers.Bidirectional(LSTM(units=UNITS_PER_LAYER, return_sequences=True, dropout=DROPOUT))(x)\n",
    "x = layers.Bidirectional(LSTM(units=UNITS_PER_LAYER, return_sequences=False, dropout=DROPOUT))(x)\n",
    "# Add a classifier\n",
    "outputs = layers.Dense(1,  activation='sigmoid')(x)\n",
    "model = keras.Model(inputs, outputs)\n",
    "\n",
    "opt = tf.keras.optimizers.Adam(learning_rate=0.0003)\n",
    "\n",
    "model.compile(loss='binary_crossentropy', optimizer=opt, metrics=['accuracy'])\n",
    "\n",
    "file_name = 'weights_{epoch:03d}_{val_accuracy:.4f}.hdf5'\n",
    "\n",
    "checkpoint_filepath = os.path.join('.', 'SAVE_MODELS', file_name)\n",
    "\n",
    "modelCheckpoint = tf.keras.callbacks.ModelCheckpoint(\n",
    "    filepath=checkpoint_filepath,\n",
    "    save_weights_only=True,\n",
    "    monitor='val_accuracy',\n",
    "    mode='max',\n",
    "    save_best_only=True)\n",
    "\n",
    "earlyStopping = EarlyStopping(monitor='val_loss', mode='min', verbose=1, patience=6, restore_best_weights=True)\n",
    "\n",
    "model.summary()"
   ]
  },
  {
   "cell_type": "code",
   "execution_count": 19,
   "id": "1a16d59a",
   "metadata": {
    "scrolled": true
   },
   "outputs": [
    {
     "name": "stdout",
     "output_type": "stream",
     "text": [
      "Epoch 1/100\n",
      "305/305 [==============================] - 20s 38ms/step - loss: 0.4999 - accuracy: 0.7677 - val_loss: 0.4307 - val_accuracy: 0.8234\n",
      "Epoch 2/100\n",
      "305/305 [==============================] - 9s 31ms/step - loss: 0.4402 - accuracy: 0.7970 - val_loss: 0.4229 - val_accuracy: 0.8168\n",
      "Epoch 3/100\n",
      "305/305 [==============================] - 9s 31ms/step - loss: 0.4345 - accuracy: 0.8095 - val_loss: 0.4160 - val_accuracy: 0.8326\n",
      "Epoch 4/100\n",
      "305/305 [==============================] - 9s 31ms/step - loss: 0.4251 - accuracy: 0.8115 - val_loss: 0.4157 - val_accuracy: 0.8227\n",
      "Epoch 5/100\n",
      "305/305 [==============================] - 9s 31ms/step - loss: 0.4149 - accuracy: 0.8151 - val_loss: 0.4213 - val_accuracy: 0.8253\n",
      "Epoch 6/100\n",
      "305/305 [==============================] - 9s 31ms/step - loss: 0.4092 - accuracy: 0.8163 - val_loss: 0.4316 - val_accuracy: 0.8148\n",
      "Epoch 7/100\n",
      "305/305 [==============================] - 9s 31ms/step - loss: 0.4040 - accuracy: 0.8238 - val_loss: 0.4092 - val_accuracy: 0.8273\n",
      "Epoch 8/100\n",
      "305/305 [==============================] - 10s 31ms/step - loss: 0.3959 - accuracy: 0.8281 - val_loss: 0.4148 - val_accuracy: 0.8332\n",
      "Epoch 9/100\n",
      "305/305 [==============================] - 9s 31ms/step - loss: 0.3926 - accuracy: 0.8250 - val_loss: 0.4116 - val_accuracy: 0.8253\n",
      "Epoch 10/100\n",
      "305/305 [==============================] - 9s 31ms/step - loss: 0.3848 - accuracy: 0.8291 - val_loss: 0.4293 - val_accuracy: 0.8188\n",
      "Epoch 11/100\n",
      "305/305 [==============================] - 9s 31ms/step - loss: 0.3792 - accuracy: 0.8388 - val_loss: 0.4292 - val_accuracy: 0.8240\n",
      "Epoch 12/100\n",
      "305/305 [==============================] - 9s 31ms/step - loss: 0.3760 - accuracy: 0.8369 - val_loss: 0.4167 - val_accuracy: 0.8260\n",
      "Epoch 13/100\n",
      "304/305 [============================>.] - ETA: 0s - loss: 0.3674 - accuracy: 0.8410Restoring model weights from the end of the best epoch: 7.\n",
      "305/305 [==============================] - 9s 31ms/step - loss: 0.3673 - accuracy: 0.8409 - val_loss: 0.4093 - val_accuracy: 0.8332\n",
      "Epoch 13: early stopping\n"
     ]
    }
   ],
   "source": [
    "history = model.fit(X_train, train_y, \n",
    "                    batch_size=20, \n",
    "                    epochs=100, \n",
    "                    validation_data=(X_valid,valid_y),\n",
    "                    callbacks=[earlyStopping,modelCheckpoint]\n",
    "                   )"
   ]
  },
  {
   "cell_type": "code",
   "execution_count": 20,
   "id": "f71c6b7a",
   "metadata": {},
   "outputs": [
    {
     "name": "stdout",
     "output_type": "stream",
     "text": [
      "48/48 [==============================] - 1s 18ms/step - loss: 0.4092 - accuracy: 0.8273\n"
     ]
    },
    {
     "data": {
      "text/plain": [
       "[0.4091683030128479, 0.8273144960403442]"
      ]
     },
     "execution_count": 20,
     "metadata": {},
     "output_type": "execute_result"
    }
   ],
   "source": [
    "model.evaluate(X_valid, valid_y)"
   ]
  },
  {
   "cell_type": "code",
   "execution_count": 22,
   "id": "aa2d30fc",
   "metadata": {},
   "outputs": [
    {
     "name": "stdout",
     "output_type": "stream",
     "text": [
      "48/48 [==============================] - 1s 16ms/step - loss: 0.4092 - accuracy: 0.8273\n"
     ]
    },
    {
     "data": {
      "text/plain": [
       "[0.4091683030128479, 0.8273144960403442]"
      ]
     },
     "execution_count": 22,
     "metadata": {},
     "output_type": "execute_result"
    }
   ],
   "source": [
    "model.evaluate(X_valid, valid_y)"
   ]
  },
  {
   "cell_type": "code",
   "execution_count": 68,
   "id": "990645e7",
   "metadata": {},
   "outputs": [],
   "source": [
    "## Set aside full data set for retraining for competition\n",
    "## see if training on the full training set improves results\n",
    "\n",
    "full_x = df_train['text'].map(clean_up_tweet)\n",
    "full_y = np.array(df_train['target'], dtype=np.float32)\n",
    "X_full = glove_word_embeddings(full_x)\n"
   ]
  },
  {
   "cell_type": "code",
   "execution_count": 69,
   "id": "61333444",
   "metadata": {},
   "outputs": [
    {
     "name": "stdout",
     "output_type": "stream",
     "text": [
      "Epoch 1/3\n",
      "381/381 [==============================] - 10s 19ms/step - loss: 0.4882 - accuracy: 0.7818\n",
      "Epoch 2/3\n",
      "381/381 [==============================] - 7s 19ms/step - loss: 0.4380 - accuracy: 0.8078\n",
      "Epoch 3/3\n",
      "381/381 [==============================] - 7s 19ms/step - loss: 0.4199 - accuracy: 0.8172\n"
     ]
    }
   ],
   "source": [
    "history = model.fit(X_full, full_y, \n",
    "                    batch_size=20, \n",
    "                    epochs=3, \n",
    "                   )"
   ]
  },
  {
   "cell_type": "code",
   "execution_count": 23,
   "id": "bcbef1c6",
   "metadata": {},
   "outputs": [
    {
     "name": "stdout",
     "output_type": "stream",
     "text": [
      "164/164 [==============================] - 4s 22ms/step\n",
      "48/48 [==============================] - 1s 25ms/step - loss: 0.4092 - accuracy: 0.8273\n"
     ]
    },
    {
     "data": {
      "text/plain": [
       "[0.4091683030128479, 0.8273144960403442]"
      ]
     },
     "execution_count": 23,
     "metadata": {},
     "output_type": "execute_result"
    }
   ],
   "source": [
    "sub_num = 12\n",
    "\n",
    "predict_proba = model.predict(X_test,batch_size=20)\n",
    "predict = (predict_proba > 0.5).astype(int)\n",
    "\n",
    "submission = pd.DataFrame(df_test['id'])\n",
    "submission['target']=predict\n",
    "\n",
    "submission.to_csv(f'data/submission{sub_num}.csv',index=False)\n",
    "submission\n",
    "model.evaluate(X_valid, valid_y)"
   ]
  },
  {
   "cell_type": "code",
   "execution_count": null,
   "id": "b8a4bcae",
   "metadata": {},
   "outputs": [],
   "source": []
  }
 ],
 "metadata": {
  "kernelspec": {
   "display_name": "Python 3 (ipykernel)",
   "language": "python",
   "name": "python3"
  },
  "language_info": {
   "codemirror_mode": {
    "name": "ipython",
    "version": 3
   },
   "file_extension": ".py",
   "mimetype": "text/x-python",
   "name": "python",
   "nbconvert_exporter": "python",
   "pygments_lexer": "ipython3",
   "version": "3.9.0"
  }
 },
 "nbformat": 4,
 "nbformat_minor": 5
}

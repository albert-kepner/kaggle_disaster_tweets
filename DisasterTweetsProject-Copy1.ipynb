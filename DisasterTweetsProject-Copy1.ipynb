{
 "cells": [
  {
   "cell_type": "markdown",
   "id": "1cfc93d6",
   "metadata": {},
   "source": [
    "# Kaggle competition: Natural Language Processing with Disaster Tweets.\n",
    "\n",
    "\n"
   ]
  },
  {
   "cell_type": "markdown",
   "id": "bb3d5fa5",
   "metadata": {},
   "source": [
    "### Brief description of the problem and data"
   ]
  },
  {
   "cell_type": "markdown",
   "id": "243ea13d",
   "metadata": {},
   "source": [
    "This project is to participate in the Kaggle learning competition to build an NLP model which does binary classification\n",
    "over a data set of about 10,000 English language tweets which may or may not be describing disasters. This is a supervised learning problem. \n",
    "\n",
    "The data consist of a training data file train.csv (7613 rows) and a test data file test.csv (3263 rows)\n",
    "\n",
    "The train.csv has the following columns:\n",
    "\n",
    "* id -- an integer id for each sample tweet\n",
    "\n",
    "* keyword -- a category for the tweet with 222 unique values, 61 missing\n",
    "\n",
    "* location -- location name with 3341 unique values, 2533 missing\n",
    "\n",
    "* text -- the text of the tweet\n",
    "\n",
    "* target -- the 0/1 label for binary classification where 1 = disaster\n",
    "\n",
    "The test.csv has the same first 4 columns but not the target value which we need to predict. The id is not significant for training, but is needed for the test data because we need to include it with the predictions submitted to Kaggle.\n",
    "\n",
    "In the training set, the  two classes are not quite evenly balanced, but are close with 42.9% in the positive (disaster) class.\n",
    "\n",
    "\n"
   ]
  },
  {
   "cell_type": "code",
   "execution_count": 1,
   "id": "27cfccab",
   "metadata": {},
   "outputs": [
    {
     "data": {
      "text/html": [
       "<div>\n",
       "<style scoped>\n",
       "    .dataframe tbody tr th:only-of-type {\n",
       "        vertical-align: middle;\n",
       "    }\n",
       "\n",
       "    .dataframe tbody tr th {\n",
       "        vertical-align: top;\n",
       "    }\n",
       "\n",
       "    .dataframe thead th {\n",
       "        text-align: right;\n",
       "    }\n",
       "</style>\n",
       "<table border=\"1\" class=\"dataframe\">\n",
       "  <thead>\n",
       "    <tr style=\"text-align: right;\">\n",
       "      <th></th>\n",
       "      <th>id</th>\n",
       "      <th>keyword</th>\n",
       "      <th>location</th>\n",
       "      <th>text</th>\n",
       "      <th>target</th>\n",
       "    </tr>\n",
       "  </thead>\n",
       "  <tbody>\n",
       "    <tr>\n",
       "      <th>0</th>\n",
       "      <td>1</td>\n",
       "      <td>NaN</td>\n",
       "      <td>NaN</td>\n",
       "      <td>Our Deeds are the Reason of this #earthquake M...</td>\n",
       "      <td>1</td>\n",
       "    </tr>\n",
       "    <tr>\n",
       "      <th>1</th>\n",
       "      <td>4</td>\n",
       "      <td>NaN</td>\n",
       "      <td>NaN</td>\n",
       "      <td>Forest fire near La Ronge Sask. Canada</td>\n",
       "      <td>1</td>\n",
       "    </tr>\n",
       "    <tr>\n",
       "      <th>2</th>\n",
       "      <td>5</td>\n",
       "      <td>NaN</td>\n",
       "      <td>NaN</td>\n",
       "      <td>All residents asked to 'shelter in place' are ...</td>\n",
       "      <td>1</td>\n",
       "    </tr>\n",
       "    <tr>\n",
       "      <th>3</th>\n",
       "      <td>6</td>\n",
       "      <td>NaN</td>\n",
       "      <td>NaN</td>\n",
       "      <td>13,000 people receive #wildfires evacuation or...</td>\n",
       "      <td>1</td>\n",
       "    </tr>\n",
       "    <tr>\n",
       "      <th>4</th>\n",
       "      <td>7</td>\n",
       "      <td>NaN</td>\n",
       "      <td>NaN</td>\n",
       "      <td>Just got sent this photo from Ruby #Alaska as ...</td>\n",
       "      <td>1</td>\n",
       "    </tr>\n",
       "    <tr>\n",
       "      <th>...</th>\n",
       "      <td>...</td>\n",
       "      <td>...</td>\n",
       "      <td>...</td>\n",
       "      <td>...</td>\n",
       "      <td>...</td>\n",
       "    </tr>\n",
       "    <tr>\n",
       "      <th>7608</th>\n",
       "      <td>10869</td>\n",
       "      <td>NaN</td>\n",
       "      <td>NaN</td>\n",
       "      <td>Two giant cranes holding a bridge collapse int...</td>\n",
       "      <td>1</td>\n",
       "    </tr>\n",
       "    <tr>\n",
       "      <th>7609</th>\n",
       "      <td>10870</td>\n",
       "      <td>NaN</td>\n",
       "      <td>NaN</td>\n",
       "      <td>@aria_ahrary @TheTawniest The out of control w...</td>\n",
       "      <td>1</td>\n",
       "    </tr>\n",
       "    <tr>\n",
       "      <th>7610</th>\n",
       "      <td>10871</td>\n",
       "      <td>NaN</td>\n",
       "      <td>NaN</td>\n",
       "      <td>M1.94 [01:04 UTC]?5km S of Volcano Hawaii. htt...</td>\n",
       "      <td>1</td>\n",
       "    </tr>\n",
       "    <tr>\n",
       "      <th>7611</th>\n",
       "      <td>10872</td>\n",
       "      <td>NaN</td>\n",
       "      <td>NaN</td>\n",
       "      <td>Police investigating after an e-bike collided ...</td>\n",
       "      <td>1</td>\n",
       "    </tr>\n",
       "    <tr>\n",
       "      <th>7612</th>\n",
       "      <td>10873</td>\n",
       "      <td>NaN</td>\n",
       "      <td>NaN</td>\n",
       "      <td>The Latest: More Homes Razed by Northern Calif...</td>\n",
       "      <td>1</td>\n",
       "    </tr>\n",
       "  </tbody>\n",
       "</table>\n",
       "<p>7613 rows × 5 columns</p>\n",
       "</div>"
      ],
      "text/plain": [
       "         id keyword location  \\\n",
       "0         1     NaN      NaN   \n",
       "1         4     NaN      NaN   \n",
       "2         5     NaN      NaN   \n",
       "3         6     NaN      NaN   \n",
       "4         7     NaN      NaN   \n",
       "...     ...     ...      ...   \n",
       "7608  10869     NaN      NaN   \n",
       "7609  10870     NaN      NaN   \n",
       "7610  10871     NaN      NaN   \n",
       "7611  10872     NaN      NaN   \n",
       "7612  10873     NaN      NaN   \n",
       "\n",
       "                                                   text  target  \n",
       "0     Our Deeds are the Reason of this #earthquake M...       1  \n",
       "1                Forest fire near La Ronge Sask. Canada       1  \n",
       "2     All residents asked to 'shelter in place' are ...       1  \n",
       "3     13,000 people receive #wildfires evacuation or...       1  \n",
       "4     Just got sent this photo from Ruby #Alaska as ...       1  \n",
       "...                                                 ...     ...  \n",
       "7608  Two giant cranes holding a bridge collapse int...       1  \n",
       "7609  @aria_ahrary @TheTawniest The out of control w...       1  \n",
       "7610  M1.94 [01:04 UTC]?5km S of Volcano Hawaii. htt...       1  \n",
       "7611  Police investigating after an e-bike collided ...       1  \n",
       "7612  The Latest: More Homes Razed by Northern Calif...       1  \n",
       "\n",
       "[7613 rows x 5 columns]"
      ]
     },
     "execution_count": 1,
     "metadata": {},
     "output_type": "execute_result"
    }
   ],
   "source": [
    "import tensorflow as tf\n",
    "from tensorflow import keras\n",
    "from tensorflow.keras.models import Sequential, Model\n",
    "from tensorflow.keras.datasets import imdb\n",
    "from tensorflow.keras.layers import Dense, LSTM, GRU, Embedding, Input\n",
    "from tensorflow.keras.preprocessing.text import Tokenizer\n",
    "from tensorflow.keras.preprocessing.sequence import pad_sequences\n",
    "from sklearn.model_selection import train_test_split\n",
    "from tensorflow.keras.callbacks import EarlyStopping, ModelCheckpoint\n",
    "from tensorflow.keras.optimizers import Adam\n",
    "import pandas as pd\n",
    "import numpy as np\n",
    "from sklearn.metrics import confusion_matrix, accuracy_score, f1_score, precision_score, recall_score\n",
    "import os\n",
    "import matplotlib.pyplot as plt \n",
    "import seaborn as sns\n",
    "import warnings \n",
    "## warnings.filterwarnings(\"ignore\", category=DeprecationWarning)\n",
    "%matplotlib inline\n",
    "\n",
    "df_train = pd.read_csv('data/train.csv')\n",
    "df_test = pd.read_csv('data/test.csv')\n",
    "df_train"
   ]
  },
  {
   "cell_type": "code",
   "execution_count": 2,
   "id": "28ca6db7",
   "metadata": {},
   "outputs": [
    {
     "data": {
      "text/html": [
       "<div>\n",
       "<style scoped>\n",
       "    .dataframe tbody tr th:only-of-type {\n",
       "        vertical-align: middle;\n",
       "    }\n",
       "\n",
       "    .dataframe tbody tr th {\n",
       "        vertical-align: top;\n",
       "    }\n",
       "\n",
       "    .dataframe thead th {\n",
       "        text-align: right;\n",
       "    }\n",
       "</style>\n",
       "<table border=\"1\" class=\"dataframe\">\n",
       "  <thead>\n",
       "    <tr style=\"text-align: right;\">\n",
       "      <th></th>\n",
       "      <th>id</th>\n",
       "      <th>target</th>\n",
       "    </tr>\n",
       "  </thead>\n",
       "  <tbody>\n",
       "    <tr>\n",
       "      <th>count</th>\n",
       "      <td>7613.000000</td>\n",
       "      <td>7613.00000</td>\n",
       "    </tr>\n",
       "    <tr>\n",
       "      <th>mean</th>\n",
       "      <td>5441.934848</td>\n",
       "      <td>0.42966</td>\n",
       "    </tr>\n",
       "    <tr>\n",
       "      <th>std</th>\n",
       "      <td>3137.116090</td>\n",
       "      <td>0.49506</td>\n",
       "    </tr>\n",
       "    <tr>\n",
       "      <th>min</th>\n",
       "      <td>1.000000</td>\n",
       "      <td>0.00000</td>\n",
       "    </tr>\n",
       "    <tr>\n",
       "      <th>25%</th>\n",
       "      <td>2734.000000</td>\n",
       "      <td>0.00000</td>\n",
       "    </tr>\n",
       "    <tr>\n",
       "      <th>50%</th>\n",
       "      <td>5408.000000</td>\n",
       "      <td>0.00000</td>\n",
       "    </tr>\n",
       "    <tr>\n",
       "      <th>75%</th>\n",
       "      <td>8146.000000</td>\n",
       "      <td>1.00000</td>\n",
       "    </tr>\n",
       "    <tr>\n",
       "      <th>max</th>\n",
       "      <td>10873.000000</td>\n",
       "      <td>1.00000</td>\n",
       "    </tr>\n",
       "  </tbody>\n",
       "</table>\n",
       "</div>"
      ],
      "text/plain": [
       "                 id      target\n",
       "count   7613.000000  7613.00000\n",
       "mean    5441.934848     0.42966\n",
       "std     3137.116090     0.49506\n",
       "min        1.000000     0.00000\n",
       "25%     2734.000000     0.00000\n",
       "50%     5408.000000     0.00000\n",
       "75%     8146.000000     1.00000\n",
       "max    10873.000000     1.00000"
      ]
     },
     "execution_count": 2,
     "metadata": {},
     "output_type": "execute_result"
    }
   ],
   "source": [
    "df_train.describe()"
   ]
  },
  {
   "cell_type": "code",
   "execution_count": 3,
   "id": "8f757182",
   "metadata": {},
   "outputs": [
    {
     "data": {
      "text/html": [
       "<div>\n",
       "<style scoped>\n",
       "    .dataframe tbody tr th:only-of-type {\n",
       "        vertical-align: middle;\n",
       "    }\n",
       "\n",
       "    .dataframe tbody tr th {\n",
       "        vertical-align: top;\n",
       "    }\n",
       "\n",
       "    .dataframe thead th {\n",
       "        text-align: right;\n",
       "    }\n",
       "</style>\n",
       "<table border=\"1\" class=\"dataframe\">\n",
       "  <thead>\n",
       "    <tr style=\"text-align: right;\">\n",
       "      <th></th>\n",
       "      <th>id</th>\n",
       "    </tr>\n",
       "  </thead>\n",
       "  <tbody>\n",
       "    <tr>\n",
       "      <th>count</th>\n",
       "      <td>3263.000000</td>\n",
       "    </tr>\n",
       "    <tr>\n",
       "      <th>mean</th>\n",
       "      <td>5427.152927</td>\n",
       "    </tr>\n",
       "    <tr>\n",
       "      <th>std</th>\n",
       "      <td>3146.427221</td>\n",
       "    </tr>\n",
       "    <tr>\n",
       "      <th>min</th>\n",
       "      <td>0.000000</td>\n",
       "    </tr>\n",
       "    <tr>\n",
       "      <th>25%</th>\n",
       "      <td>2683.000000</td>\n",
       "    </tr>\n",
       "    <tr>\n",
       "      <th>50%</th>\n",
       "      <td>5500.000000</td>\n",
       "    </tr>\n",
       "    <tr>\n",
       "      <th>75%</th>\n",
       "      <td>8176.000000</td>\n",
       "    </tr>\n",
       "    <tr>\n",
       "      <th>max</th>\n",
       "      <td>10875.000000</td>\n",
       "    </tr>\n",
       "  </tbody>\n",
       "</table>\n",
       "</div>"
      ],
      "text/plain": [
       "                 id\n",
       "count   3263.000000\n",
       "mean    5427.152927\n",
       "std     3146.427221\n",
       "min        0.000000\n",
       "25%     2683.000000\n",
       "50%     5500.000000\n",
       "75%     8176.000000\n",
       "max    10875.000000"
      ]
     },
     "execution_count": 3,
     "metadata": {},
     "output_type": "execute_result"
    }
   ],
   "source": [
    "df_test.describe()"
   ]
  },
  {
   "cell_type": "code",
   "execution_count": null,
   "id": "490c3361",
   "metadata": {},
   "outputs": [],
   "source": []
  },
  {
   "cell_type": "markdown",
   "id": "ccdd2592",
   "metadata": {},
   "source": [
    "### Exploratory Data Analysis (EDA) Data Cleaning and Preparation\n",
    "\n",
    "The general plan is to build some type of binary classification recurrent neural network model on the sequence of words in the tweets. The assignment suggests using word embeddings. I chose to use GloVe pretrained embeddings from https://nlp.stanford.edu/projects/glove/ . In particular I picked the glove.6B.zip data set which has a 400K vocabulary extracted and trained from Wikipedia 2014 and Gigaword 5. This data set has a choice of 4 sets of word vectors of dimension 50, 100, 200, or 300.\n",
    "\n",
    "This dataset provides a dictionary to look up word vectors from lower cased word tokens. So my strategy for cleaning the data is to lower case all the letters in the tweets, while discarding all punctuation, numbers, and anything else not alpha characters, then split the resulting string on blanks, to get work tokens. I will then look up each token in the GloVe dictionary, and skip any tokens that don't match a known word embedding.\n",
    "\n",
    "In this process I found that some of the tweets had no useable words.  I could have skipped these samples for the training set, but they need to be preserved in the test set because we must provide a prediction for each of the test data in submitting to Kaggle. To treat the training and test data sets the same, I chose to substitute the single word \"neutral\" for any tweet that had no useable tokents."
   ]
  },
  {
   "cell_type": "code",
   "execution_count": 4,
   "id": "8b37a95f",
   "metadata": {},
   "outputs": [
    {
     "data": {
      "image/png": "[encoded data removed]",
      "text/plain": [
       "<Figure size 432x288 with 1 Axes>"
      ]
     },
     "metadata": {
      "needs_background": "light"
     },
     "output_type": "display_data"
    }
   ],
   "source": [
    "## We can get a quick look as the charater length distributions of the tweets in the test and training data sets\n",
    "\n",
    "train_len=df_train['text'].str.len()\n",
    "test_len=df_test['text'].str.len()\n",
    "plt.hist(train_len, bins=30, label=\"training tweets\")\n",
    "plt.hist(test_len, bins=30, label=\"testing tweets\")\n",
    "plt.legend()\n",
    "plt.show()"
   ]
  },
  {
   "cell_type": "code",
   "execution_count": 5,
   "id": "1d96bbab",
   "metadata": {},
   "outputs": [
    {
     "name": "stdout",
     "output_type": "stream",
     "text": [
      "elapsed seconds = 10.823406457901001\n"
     ]
    },
    {
     "data": {
      "text/plain": [
       "dict"
      ]
     },
     "execution_count": 5,
     "metadata": {},
     "output_type": "execute_result"
    }
   ],
   "source": [
    "## Function to Load the GloVe dictionary of word embeddings.\n",
    "## I experimented with word vectors of 50, 100, and 200 dimension from GloVe, but 100 seems to work best for this problem.\n",
    "\n",
    "def get_glove_vectors(filename=\"data/glove.6B.100d.txt\"):\n",
    "    ## function from https://campus.datacamp.com/courses/recurrent-neural-networks-for-language-modeling-in-python/rnn-architecture?ex=7\n",
    "    # Get all word vectors from pre-trained model\n",
    "    glove_vector_dict = {}\n",
    "    with open(filename, encoding=\"UTF-8\") as f:\n",
    "        for line in f:\n",
    "            values = line.split()\n",
    "            word = values[0]\n",
    "            coefs = values[1:]\n",
    "            glove_vector_dict[word] = np.asarray(coefs, dtype='float32')\n",
    "    return glove_vector_dict\n",
    "\n",
    "import time\n",
    "start = time.time()\n",
    "\n",
    "glove_vector_dict = get_glove_vectors()\n",
    "\n",
    "end = time.time()\n",
    "print(f'elapsed seconds = {end - start}')\n",
    "type(glove_vector_dict)\n"
   ]
  },
  {
   "cell_type": "markdown",
   "id": "b4f30592",
   "metadata": {},
   "source": [
    "I chose to ignore the Location column in the data and I added the keyword column as additional words at the end of each tweet.\n",
    "\n",
    "At this point I have the train and test datasets in pandas data frames df_train and df_test, exactly as read from the CSV files. Initially I tried just discarding the keyword column. But I changed this to the simple approach of appending the keywords as additional words at the end of each tweet. The following code does this:"
   ]
  },
  {
   "cell_type": "code",
   "execution_count": 6,
   "id": "b758b6c1",
   "metadata": {},
   "outputs": [],
   "source": [
    "## Previous models ignored the keyword column in the training and test data.\n",
    "\n",
    "## To incorporate the keyword, we will try just appending the keywords (when present) as\n",
    "## an additional one or two tokens at the end of each tweet text.\n",
    "\n",
    "## This function modifies the pandas dataframe df by\n",
    "## appending the keyword (if present) to the end of the tweet.\n",
    "## Keywords like 'airplane%20accident' are split into two words.\n",
    "## It also writes the modified dataframe to a csv file (for debugging).\n",
    "def add_keyword(df, filename=None):\n",
    "    df.loc[df['keyword'].isna()==False,'text'] = df['text'] + ' ' + df['keyword'].str.replace('%20',' ')\n",
    "    if filename:\n",
    "        df.to_csv(f'data/{filename}',index=False)\n",
    "\n",
    "add_keyword(df_train, filename='df_train.csv')\n",
    "add_keyword(df_test, filename='df_test.csv')"
   ]
  },
  {
   "cell_type": "markdown",
   "id": "5f4647f1",
   "metadata": {},
   "source": [
    "Here is the raw text from a few example tweets:"
   ]
  },
  {
   "cell_type": "code",
   "execution_count": 7,
   "id": "913e90e3",
   "metadata": {},
   "outputs": [
    {
     "data": {
      "text/plain": [
       "['Do you like pasta?',\n",
       " 'The end!',\n",
       " '@bbcmtd Wholesale Markets ablaze http://t.co/lHYXEOHY6C ablaze',\n",
       " 'We always try to bring the heavy. #metal #RT http://t.co/YAo1e0xngw ablaze',\n",
       " '#AFRICANBAZE: Breaking news:Nigeria flag set ablaze in Aba. http://t.co/2nndBGwyEi ablaze',\n",
       " 'Crying out for more! Set me ablaze ablaze']"
      ]
     },
     "execution_count": 7,
     "metadata": {},
     "output_type": "execute_result"
    }
   ],
   "source": [
    "list(df_train.loc[29:34,'text'])"
   ]
  },
  {
   "cell_type": "code",
   "execution_count": 8,
   "id": "a834242e",
   "metadata": {},
   "outputs": [
    {
     "data": {
      "text/plain": [
       "\"+ Nicole Fletcher one of a victim of crashed airplane few times ago. \\n\\nThe accident left a little bit trauma for her. Although she's \\n\\n+ airplane accident\""
      ]
     },
     "execution_count": 8,
     "metadata": {},
     "output_type": "execute_result"
    }
   ],
   "source": [
    "s1 = df_train[df_train['id']==232]['text']\n",
    "s1 = list(s1)[0]\n",
    "s1"
   ]
  },
  {
   "cell_type": "markdown",
   "id": "15295657",
   "metadata": {},
   "source": [
    "Here we define a function to clean up the tweets by removing all non alpha characters, lower case the text, and split the string into word tokens on space."
   ]
  },
  {
   "cell_type": "code",
   "execution_count": 9,
   "id": "1b30715d",
   "metadata": {},
   "outputs": [],
   "source": [
    "import re\n",
    "\n",
    "def clean_up_tweet(tweet):\n",
    "    \"\"\"\n",
    "    Clean up the content of one tweet, removing punctuation and numbers. \n",
    "    \n",
    "    Parameters:\n",
    "    tweet(str):The text of the tweet\n",
    "    \n",
    "    Returns:\n",
    "    word_list: A list of pure alphabetic words in lower case\n",
    "    \n",
    "    \"\"\"\n",
    "    ## Remove all characters execept alphabetic chars and space,\n",
    "    ## convert to lower case and split on space.\n",
    "    word_list = re.sub('[^A-Za-z ]+','',tweet).lower().split(' ')\n",
    "    return word_list"
   ]
  },
  {
   "cell_type": "code",
   "execution_count": 10,
   "id": "f2bc0f18",
   "metadata": {},
   "outputs": [
    {
     "data": {
      "text/plain": [
       "['',\n",
       " 'nicole',\n",
       " 'fletcher',\n",
       " 'one',\n",
       " 'of',\n",
       " 'a',\n",
       " 'victim',\n",
       " 'of',\n",
       " 'crashed',\n",
       " 'airplane',\n",
       " 'few',\n",
       " 'times',\n",
       " 'ago',\n",
       " 'the',\n",
       " 'accident',\n",
       " 'left',\n",
       " 'a',\n",
       " 'little',\n",
       " 'bit',\n",
       " 'trauma',\n",
       " 'for',\n",
       " 'her',\n",
       " 'although',\n",
       " 'shes',\n",
       " '',\n",
       " 'airplane',\n",
       " 'accident']"
      ]
     },
     "execution_count": 10,
     "metadata": {},
     "output_type": "execute_result"
    }
   ],
   "source": [
    "## Same as the last example tweet after cleaning\n",
    "clean_up_tweet(s1)"
   ]
  },
  {
   "cell_type": "markdown",
   "id": "744789c2",
   "metadata": {},
   "source": [
    "In preparing the data for training, I want to reserve 20% for validation during training."
   ]
  },
  {
   "cell_type": "code",
   "execution_count": 11,
   "id": "5d323e12",
   "metadata": {},
   "outputs": [
    {
     "name": "stdout",
     "output_type": "stream",
     "text": [
      "(6090, 5)\n",
      "(1523, 5)\n"
     ]
    }
   ],
   "source": [
    "train, valid = train_test_split(df_train, train_size=0.8, shuffle=True, random_state=42)\n",
    "print(train.shape)\n",
    "print(valid.shape)"
   ]
  },
  {
   "cell_type": "markdown",
   "id": "c5e29275",
   "metadata": {},
   "source": [
    "Here we are applying the clean_up_tweet function to produce clean lower case word tokens for each of 3 data sets for training, validation, and testing."
   ]
  },
  {
   "cell_type": "code",
   "execution_count": 12,
   "id": "d958ed57",
   "metadata": {},
   "outputs": [
    {
     "name": "stdout",
     "output_type": "stream",
     "text": [
      "(6090,)\n",
      "(1523,)\n",
      "(3263,)\n"
     ]
    }
   ],
   "source": [
    "train_x = train['text'].map(clean_up_tweet)\n",
    "valid_x = valid['text'].map(clean_up_tweet)\n",
    "test_x = df_test['text'].map(clean_up_tweet)\n",
    "\n",
    "print(train_x.shape)\n",
    "print(valid_x.shape)\n",
    "print(test_x.shape)\n"
   ]
  },
  {
   "cell_type": "code",
   "execution_count": 13,
   "id": "afbfebd9",
   "metadata": {},
   "outputs": [
    {
     "data": {
      "image/png": "[encoded data removed]",
      "text/plain": [
       "<Figure size 432x288 with 1 Axes>"
      ]
     },
     "metadata": {
      "needs_background": "light"
     },
     "output_type": "display_data"
    }
   ],
   "source": [
    "## Now that the tweets have been cleaned we can take a look at the\n",
    "## distribution of tweet word counts, as 3 sets for training, validation, and testing\n",
    "\n",
    "train_x_len = train_x.map(len)\n",
    "valid_x_len = valid_x.map(len)\n",
    "test_x_len = test_x.map(len)\n",
    "\n",
    "\n",
    "plt.hist(train_x_len, bins=30, label=\"training tweet word counts\")\n",
    "\n",
    "plt.hist(test_x_len, bins=30, label=\"testing tweet word counts\")\n",
    "\n",
    "plt.hist(valid_x_len, bins=30, label=\"validation tweet word counts\")\n",
    "\n",
    "plt.legend()\n",
    "plt.show()"
   ]
  },
  {
   "cell_type": "markdown",
   "id": "d1532215",
   "metadata": {},
   "source": [
    "Here we extract the target values for training and validation."
   ]
  },
  {
   "cell_type": "code",
   "execution_count": 14,
   "id": "684045d9",
   "metadata": {},
   "outputs": [
    {
     "name": "stdout",
     "output_type": "stream",
     "text": [
      "[1. 0. 1. 1. 0.]\n",
      "[0. 0. 0. 1. 1.]\n",
      "0.43054187192118226\n",
      "0.4261326329612607\n"
     ]
    }
   ],
   "source": [
    "train_y = np.array(train['target'], dtype=np.float32)\n",
    "valid_y = np.array(valid['target'], dtype=np.float32)\n",
    "print(train_y[:5])\n",
    "print(train_y[-5:])\n",
    "print(np.sum(train_y)/len(train_y))\n",
    "print(np.sum(valid_y)/len(valid_y))"
   ]
  },
  {
   "cell_type": "markdown",
   "id": "e66b534f",
   "metadata": {},
   "source": [
    "Above we confirmed that the train and validation sets have about the same class proportions for the target."
   ]
  },
  {
   "cell_type": "markdown",
   "id": "16321c33",
   "metadata": {},
   "source": [
    "\n",
    "\n",
    "Once we have a sequence of word vectors for each tweet, \n",
    "we will also need to pad each sequence to a uniform length before training with a recurrent NN model. \n",
    "The following code counts the words in each tweet and finds the max lengths. Based on these counts,\n",
    "I chose to pad all the sequences to length 56, which covers all the tweets."
   ]
  },
  {
   "cell_type": "code",
   "execution_count": 15,
   "id": "475588b7",
   "metadata": {},
   "outputs": [
    {
     "name": "stdout",
     "output_type": "stream",
     "text": [
      "55\n",
      "31\n",
      "35\n"
     ]
    }
   ],
   "source": [
    "train['tweet_word_counts'] = [len(x) for x in train_x]\n",
    "valid['tweet_word_counts'] = [len(x) for x in valid_x]\n",
    "df_test['tweet_word_counts'] = [len(x) for x in test_x]\n",
    "print(np.max(train['tweet_word_counts']) )\n",
    "print(np.max(valid['tweet_word_counts']) )\n",
    "print(np.max(df_test['tweet_word_counts']) )"
   ]
  },
  {
   "cell_type": "markdown",
   "id": "353997a2",
   "metadata": {},
   "source": [
    "Now we are ready to replace the cleaned word tokens in the tweets with word embeddings from the GloVe data set. I am using the 100d data file that has vectors of 100 floats for each word."
   ]
  },
  {
   "cell_type": "code",
   "execution_count": 16,
   "id": "05c78b8d",
   "metadata": {},
   "outputs": [],
   "source": [
    "def glove_word_embeddings(word_lists, pad_to=56):\n",
    "    ## We plan to replace all the words in the tweets\n",
    "    ## with embeddings from the GloVe dictionary, skipping\n",
    "    ## any words not found, and also padding the sequence \n",
    "    ## of embeddings to a fixed length.\n",
    "    \n",
    "    ## If none of the words match for a given tweet we will substitute\n",
    "    ## a with place holder vector of one word, \"neutral\".\n",
    "    d = glove_vector_dict\n",
    "    neutral = d[\"neutral\"]\n",
    "    placeHolder = np.array([neutral])\n",
    "    padNeutral = pad_sequences(placeHolder.T, pad_to, dtype='float32')\n",
    "    outer = []\n",
    "    for word_list in word_lists:\n",
    "        enc_list = []\n",
    "        for word in word_list:\n",
    "            if(type(d.get(word)) is np.ndarray):\n",
    "                enc_list.append(d.get(word))\n",
    "        if(len(enc_list) > 0):\n",
    "            enc_array = np.array(enc_list)\n",
    "            pad = pad_sequences(enc_array.T, pad_to, dtype='float32')\n",
    "            outer.append(pad.T)\n",
    "        else:\n",
    "            outer.append(padNeutral.T)\n",
    "    return np.array(outer)"
   ]
  },
  {
   "cell_type": "code",
   "execution_count": 17,
   "id": "55052543",
   "metadata": {},
   "outputs": [
    {
     "name": "stdout",
     "output_type": "stream",
     "text": [
      "elapsed seconds = 2.32283878326416\n",
      "(6090, 56, 100)\n",
      "(1523, 56, 100)\n",
      "(3263, 56, 100)\n"
     ]
    }
   ],
   "source": [
    "\n",
    "start = time.time()\n",
    "X_train = glove_word_embeddings(train_x)\n",
    "X_valid = glove_word_embeddings(valid_x)\n",
    "X_test = glove_word_embeddings(test_x)\n",
    "end = time.time()\n",
    "print(f'elapsed seconds = {end - start}')\n",
    "print(X_train.shape)\n",
    "print(X_valid.shape)\n",
    "print(X_test.shape)"
   ]
  },
  {
   "cell_type": "markdown",
   "id": "a2d9a3c5",
   "metadata": {},
   "source": [
    "### Model Architecture\n",
    "\n",
    "I tried the following model configurations. The details of the model definitions, training, and local validation results\n",
    "appear below in this notebook. My github project has about 20 other notebooks which I saved during incremental model development\n",
    "but a summary of all my work is shown here.\n",
    "\n",
    "* Model 1 -- Single Layer LSTM, 128 units per layer\n",
    "\n",
    "* Model 2 -- Two Layer LSTM, 128 units per layer\n",
    "\n",
    "* Model 3 -- Three Layer LSTM, 128 units per layer\n",
    "\n",
    "* Model 4 - Bi-Directional LSTM with 2 layers, 64 units per layer\n",
    "\n",
    "* Model 5 - Bi-Directional LSTM with 3 layers, 64 units per layer\n",
    "\n",
    "I used GloVe word embeddings for this project, tranforming the tweets into a sequence of embeddings for only those\n",
    "tokens from the tweets which matched words in the Glove vocabulary.\n",
    "Given a sequence of word embeddings from a large corpus, we would expect that an LSTM sequential model should be\n",
    "able to pick up patterns in the word sequences to help with classifying the tweets as disaster or not.\n",
    "\n",
    "### Results and Analysis \n",
    "\n",
    "I started with a single layer LSTM in Model 1. This model has an LSTM layer with 128 units, followed by\n",
    "a Dense layer with 1 unit and Sigmoid activiation to do binary classification with appoximate probability estimates\n",
    "of the positive (disaster) class as the single output.\n",
    "\n",
    "With the Keras Sequential API it is easy to add additional layers of LSTM units,\n",
    "which I did in Model 2 and Model 3. Adding the 2nd and third LSTM layer made small incremental improvements in F1 score, but the 3rd layer improvement was very minor. I tried adding a 4th layer, which hurt performance.\n",
    "\n",
    "After Model 3, I switched to the BiDirectional LSTM configuration shown in Models 4 and 5. The performance of these models was not much different from Model 3 when trained and evaluated locally, but Model 5 gave me my best score for a Kaggle submission.\n",
    "\n",
    "For all of the models I used Dropout in the range of 0.2 to 0.3 to reduce overfitting, and also used early stopping based on minimum validation loss, to know when to stop training. Other hyper parameter tuning included reducing the learning rate and reducing the number of units per LSTM layer, between my first and final models. This process could have been carried further, but tuning was only giving very small gains. I also tried switching to GRU models instead of LSTM otherwise keeping the same architecture. The GRU models train slightly faster, but did not give better performance than LSTM models.\n",
    "\n",
    "### Conclusions\n",
    "\n",
    "Using pretrained GloVe word embedding vectors, and fairly simple LSTM and BiDirectional LSTM models I was able to produce fairly reasonable, but not wonderful, predictions on this binary classification problem. Tweaking the model architecture and more hyperparameter tuning could lead to minor improvements, but I think a different approach would be needed for significant improvements.\n",
    "\n",
    "Some possible improvements are:\n",
    "\n",
    "* Using a GloVe data set with a larger vocabulary. The data set I used had about a 400k vocabulary, but there are larger Glove datasets available.\n",
    "\n",
    "* I think sequences of word embeddings could be combined with additional sequences such as Part of Speech predictions and Named Entity Recognition using spaCy to produce a more powerful LSTM model for this type of problem.\n",
    "\n",
    "One thing that worked well is that I was able to train models quickly. By using word embeddings pre-trained on a large corpus I avoided needing to train word embeddings from scratch. This disaster tweets data set was probably too small to do meaningful training from scratch, anyway.\n",
    "Also I have my computer setup configured for GPU processing with tensorflow. As a result all of my models train in 10 seconds or less per epoch for this project.\n",
    "\n",
    "\n",
    "\n"
   ]
  },
  {
   "cell_type": "markdown",
   "id": "3fad0d77",
   "metadata": {},
   "source": [
    "# Model Details, Local training and validation code:"
   ]
  },
  {
   "cell_type": "markdown",
   "id": "d1dfcf79",
   "metadata": {},
   "source": [
    "## Model 1 -- Single Layer LSTM, 128 units per layer"
   ]
  },
  {
   "cell_type": "code",
   "execution_count": 16,
   "id": "4e6bfed6",
   "metadata": {},
   "outputs": [
    {
     "name": "stdout",
     "output_type": "stream",
     "text": [
      "Model: \"sequential\"\n",
      "_________________________________________________________________\n",
      " Layer (type)                Output Shape              Param #   \n",
      "=================================================================\n",
      " lstm (LSTM)                 (None, 128)               117248    \n",
      "                                                                 \n",
      " dense (Dense)               (None, 1)                 129       \n",
      "                                                                 \n",
      "=================================================================\n",
      "Total params: 117,377\n",
      "Trainable params: 117,377\n",
      "Non-trainable params: 0\n",
      "_________________________________________________________________\n"
     ]
    }
   ],
   "source": [
    "DROPOUT = 0.2\n",
    "UNITS_PER_LAYER = 128\n",
    "\n",
    "# Build model\n",
    "model = Sequential()\n",
    "model.add(LSTM(units=UNITS_PER_LAYER, input_shape=(None, 100), return_sequences=False, dropout=DROPOUT))\n",
    "model.add(Dense(1, activation='sigmoid'))\n",
    "\n",
    "opt = tf.keras.optimizers.Adam(learning_rate=0.001)\n",
    "\n",
    "model.compile(loss='binary_crossentropy', optimizer=opt, metrics=['accuracy'])\n",
    "\n",
    "file_name = 'weights_{epoch:03d}_{val_accuracy:.4f}.hdf5'\n",
    "\n",
    "checkpoint_filepath = os.path.join('.', 'SAVE_MODELS', file_name)\n",
    "\n",
    "modelCheckpoint = tf.keras.callbacks.ModelCheckpoint(\n",
    "    filepath=checkpoint_filepath,\n",
    "    save_weights_only=True,\n",
    "    monitor='val_accuracy',\n",
    "    mode='max',\n",
    "    save_best_only=True)\n",
    "\n",
    "earlyStopping = EarlyStopping(monitor='val_loss', mode='min', verbose=1, patience=6, restore_best_weights=True)\n",
    "\n",
    "model.summary()"
   ]
  },
  {
   "cell_type": "code",
   "execution_count": 17,
   "id": "0d96ddd5",
   "metadata": {},
   "outputs": [
    {
     "name": "stdout",
     "output_type": "stream",
     "text": [
      "Epoch 1/100\n",
      "305/305 [==============================] - 6s 11ms/step - loss: 0.4760 - accuracy: 0.7813 - val_loss: 0.4317 - val_accuracy: 0.8135\n",
      "Epoch 2/100\n",
      "305/305 [==============================] - 3s 10ms/step - loss: 0.4336 - accuracy: 0.8079 - val_loss: 0.4085 - val_accuracy: 0.8293\n",
      "Epoch 3/100\n",
      "305/305 [==============================] - 3s 10ms/step - loss: 0.4142 - accuracy: 0.8158 - val_loss: 0.4156 - val_accuracy: 0.8207\n",
      "Epoch 4/100\n",
      "305/305 [==============================] - 3s 10ms/step - loss: 0.3969 - accuracy: 0.8291 - val_loss: 0.4481 - val_accuracy: 0.7945\n",
      "Epoch 5/100\n",
      "305/305 [==============================] - 3s 10ms/step - loss: 0.3802 - accuracy: 0.8351 - val_loss: 0.4236 - val_accuracy: 0.8221\n",
      "Epoch 6/100\n",
      "305/305 [==============================] - 3s 10ms/step - loss: 0.3652 - accuracy: 0.8404 - val_loss: 0.4141 - val_accuracy: 0.8319\n",
      "Epoch 7/100\n",
      "305/305 [==============================] - 3s 10ms/step - loss: 0.3446 - accuracy: 0.8558 - val_loss: 0.4467 - val_accuracy: 0.8089\n",
      "Epoch 8/100\n",
      "303/305 [============================>.] - ETA: 0s - loss: 0.3269 - accuracy: 0.8622Restoring model weights from the end of the best epoch: 2.\n",
      "305/305 [==============================] - 3s 10ms/step - loss: 0.3271 - accuracy: 0.8622 - val_loss: 0.4468 - val_accuracy: 0.8227\n",
      "Epoch 8: early stopping\n"
     ]
    }
   ],
   "source": [
    "history = model.fit(X_train, train_y, \n",
    "                    batch_size=20, \n",
    "                    epochs=100, \n",
    "                    validation_data=(X_valid,valid_y),\n",
    "                    callbacks=[earlyStopping,modelCheckpoint]\n",
    "                   )"
   ]
  },
  {
   "cell_type": "code",
   "execution_count": 18,
   "id": "31dd2e4c",
   "metadata": {},
   "outputs": [
    {
     "name": "stdout",
     "output_type": "stream",
     "text": [
      "164/164 [==============================] - 1s 3ms/step\n",
      "77/77 [==============================] - 0s 3ms/step\n",
      "acc 0.8292843072882469\n",
      "recall 0.7442218798151001\n",
      "precision 0.8370883882149047\n",
      "F1 0.7879282218597063\n"
     ]
    },
    {
     "data": {
      "text/html": [
       "<div>\n",
       "<style scoped>\n",
       "    .dataframe tbody tr th:only-of-type {\n",
       "        vertical-align: middle;\n",
       "    }\n",
       "\n",
       "    .dataframe tbody tr th {\n",
       "        vertical-align: top;\n",
       "    }\n",
       "\n",
       "    .dataframe thead th {\n",
       "        text-align: right;\n",
       "    }\n",
       "</style>\n",
       "<table border=\"1\" class=\"dataframe\">\n",
       "  <thead>\n",
       "    <tr style=\"text-align: right;\">\n",
       "      <th></th>\n",
       "      <th>0</th>\n",
       "      <th>1</th>\n",
       "    </tr>\n",
       "  </thead>\n",
       "  <tbody>\n",
       "    <tr>\n",
       "      <th>0</th>\n",
       "      <td>780</td>\n",
       "      <td>94</td>\n",
       "    </tr>\n",
       "    <tr>\n",
       "      <th>1</th>\n",
       "      <td>166</td>\n",
       "      <td>483</td>\n",
       "    </tr>\n",
       "  </tbody>\n",
       "</table>\n",
       "</div>"
      ],
      "text/plain": [
       "     0    1\n",
       "0  780   94\n",
       "1  166  483"
      ]
     },
     "execution_count": 18,
     "metadata": {},
     "output_type": "execute_result"
    }
   ],
   "source": [
    "sub_num = 18\n",
    "\n",
    "predict_proba = model.predict(X_test,batch_size=20)\n",
    "predict = (predict_proba > 0.5).astype(int)\n",
    "\n",
    "submission = pd.DataFrame(df_test['id'])\n",
    "submission['target']=predict\n",
    "\n",
    "submission.to_csv(f'data/submission{sub_num}.csv',index=False)\n",
    "submission\n",
    "\n",
    "yp_proba = model.predict(X_valid, batch_size=20)\n",
    "yp = (yp_proba > 0.5).astype(int)\n",
    "print('acc', accuracy_score(valid_y, yp))\n",
    "print('recall', recall_score(valid_y, yp))\n",
    "print('precision', precision_score(valid_y, yp))\n",
    "print('F1', f1_score(valid_y, yp))\n",
    "pd.DataFrame(confusion_matrix(valid_y,yp))"
   ]
  },
  {
   "cell_type": "code",
   "execution_count": 19,
   "id": "d9939f64",
   "metadata": {},
   "outputs": [
    {
     "data": {
      "image/png": "[encoded data removed]",
      "text/plain": [
       "<Figure size 432x288 with 1 Axes>"
      ]
     },
     "metadata": {
      "needs_background": "light"
     },
     "output_type": "display_data"
    }
   ],
   "source": [
    "plt.plot(history.history['accuracy'])\n",
    "plt.plot(history.history['val_accuracy'])\n",
    "plt.title('model accuracy')\n",
    "plt.ylabel('accuracy')\n",
    "plt.xlabel('epoch')\n",
    "plt.legend(['train', 'test'], loc='upper left')\n",
    "plt.show()"
   ]
  },
  {
   "cell_type": "markdown",
   "id": "b0c13cfd",
   "metadata": {},
   "source": [
    "## Model 2 -- Two Layer LSTM, 128 units per layer"
   ]
  },
  {
   "cell_type": "code",
   "execution_count": 20,
   "id": "86de5bea",
   "metadata": {},
   "outputs": [
    {
     "name": "stdout",
     "output_type": "stream",
     "text": [
      "Model: \"sequential_1\"\n",
      "_________________________________________________________________\n",
      " Layer (type)                Output Shape              Param #   \n",
      "=================================================================\n",
      " lstm_1 (LSTM)               (None, None, 128)         117248    \n",
      "                                                                 \n",
      " lstm_2 (LSTM)               (None, 128)               131584    \n",
      "                                                                 \n",
      " dense_1 (Dense)             (None, 1)                 129       \n",
      "                                                                 \n",
      "=================================================================\n",
      "Total params: 248,961\n",
      "Trainable params: 248,961\n",
      "Non-trainable params: 0\n",
      "_________________________________________________________________\n"
     ]
    }
   ],
   "source": [
    "DROPOUT = 0.2\n",
    "UNITS_PER_LAYER = 128\n",
    "\n",
    "# Build model\n",
    "model = Sequential()\n",
    "model.add(LSTM(units=UNITS_PER_LAYER, input_shape=(None, 100), return_sequences=True, dropout=DROPOUT))\n",
    "model.add(LSTM(units=UNITS_PER_LAYER, return_sequences=False, dropout=DROPOUT))\n",
    "model.add(Dense(1, activation='sigmoid'))\n",
    "\n",
    "opt = tf.keras.optimizers.Adam(learning_rate=0.001)\n",
    "\n",
    "model.compile(loss='binary_crossentropy', optimizer=opt, metrics=['accuracy'])\n",
    "\n",
    "file_name = 'weights_{epoch:03d}_{val_accuracy:.4f}.hdf5'\n",
    "\n",
    "checkpoint_filepath = os.path.join('.', 'SAVE_MODELS', file_name)\n",
    "\n",
    "modelCheckpoint = tf.keras.callbacks.ModelCheckpoint(\n",
    "    filepath=checkpoint_filepath,\n",
    "    save_weights_only=True,\n",
    "    monitor='val_accuracy',\n",
    "    mode='max',\n",
    "    save_best_only=True)\n",
    "\n",
    "earlyStopping = EarlyStopping(monitor='val_loss', mode='min', verbose=1, patience=6, restore_best_weights=True)\n",
    "\n",
    "model.summary()"
   ]
  },
  {
   "cell_type": "code",
   "execution_count": 21,
   "id": "7599b0f9",
   "metadata": {},
   "outputs": [
    {
     "name": "stdout",
     "output_type": "stream",
     "text": [
      "Epoch 1/100\n",
      "305/305 [==============================] - 8s 18ms/step - loss: 0.4831 - accuracy: 0.7796 - val_loss: 0.4764 - val_accuracy: 0.8129\n",
      "Epoch 2/100\n",
      "305/305 [==============================] - 5s 16ms/step - loss: 0.4382 - accuracy: 0.8076 - val_loss: 0.4377 - val_accuracy: 0.8319\n",
      "Epoch 3/100\n",
      "305/305 [==============================] - 5s 16ms/step - loss: 0.4160 - accuracy: 0.8176 - val_loss: 0.4180 - val_accuracy: 0.8129\n",
      "Epoch 4/100\n",
      "305/305 [==============================] - 5s 16ms/step - loss: 0.3967 - accuracy: 0.8292 - val_loss: 0.4105 - val_accuracy: 0.8286\n",
      "Epoch 5/100\n",
      "305/305 [==============================] - 5s 16ms/step - loss: 0.3855 - accuracy: 0.8320 - val_loss: 0.4165 - val_accuracy: 0.8247\n",
      "Epoch 6/100\n",
      "305/305 [==============================] - 5s 16ms/step - loss: 0.3671 - accuracy: 0.8422 - val_loss: 0.4460 - val_accuracy: 0.8253\n",
      "Epoch 7/100\n",
      "305/305 [==============================] - 5s 15ms/step - loss: 0.3488 - accuracy: 0.8483 - val_loss: 0.4372 - val_accuracy: 0.8188\n",
      "Epoch 8/100\n",
      "305/305 [==============================] - 5s 15ms/step - loss: 0.3334 - accuracy: 0.8553 - val_loss: 0.4578 - val_accuracy: 0.8240\n",
      "Epoch 9/100\n",
      "305/305 [==============================] - 5s 16ms/step - loss: 0.3114 - accuracy: 0.8678 - val_loss: 0.4467 - val_accuracy: 0.8168\n",
      "Epoch 10/100\n",
      "305/305 [==============================] - ETA: 0s - loss: 0.2835 - accuracy: 0.8798Restoring model weights from the end of the best epoch: 4.\n",
      "305/305 [==============================] - 5s 15ms/step - loss: 0.2835 - accuracy: 0.8798 - val_loss: 0.4824 - val_accuracy: 0.8247\n",
      "Epoch 10: early stopping\n"
     ]
    }
   ],
   "source": [
    "history = model.fit(X_train, train_y, \n",
    "                    batch_size=20, \n",
    "                    epochs=100, \n",
    "                    validation_data=(X_valid,valid_y),\n",
    "                    callbacks=[earlyStopping,modelCheckpoint]\n",
    "                   )"
   ]
  },
  {
   "cell_type": "code",
   "execution_count": 22,
   "id": "b88f300f",
   "metadata": {},
   "outputs": [
    {
     "name": "stdout",
     "output_type": "stream",
     "text": [
      "164/164 [==============================] - 2s 6ms/step\n",
      "77/77 [==============================] - 0s 6ms/step\n",
      "acc 0.8286277084701248\n",
      "recall 0.7211093990755008\n",
      "precision 0.8540145985401459\n",
      "F1 0.7819548872180451\n"
     ]
    },
    {
     "data": {
      "text/html": [
       "<div>\n",
       "<style scoped>\n",
       "    .dataframe tbody tr th:only-of-type {\n",
       "        vertical-align: middle;\n",
       "    }\n",
       "\n",
       "    .dataframe tbody tr th {\n",
       "        vertical-align: top;\n",
       "    }\n",
       "\n",
       "    .dataframe thead th {\n",
       "        text-align: right;\n",
       "    }\n",
       "</style>\n",
       "<table border=\"1\" class=\"dataframe\">\n",
       "  <thead>\n",
       "    <tr style=\"text-align: right;\">\n",
       "      <th></th>\n",
       "      <th>0</th>\n",
       "      <th>1</th>\n",
       "    </tr>\n",
       "  </thead>\n",
       "  <tbody>\n",
       "    <tr>\n",
       "      <th>0</th>\n",
       "      <td>794</td>\n",
       "      <td>80</td>\n",
       "    </tr>\n",
       "    <tr>\n",
       "      <th>1</th>\n",
       "      <td>181</td>\n",
       "      <td>468</td>\n",
       "    </tr>\n",
       "  </tbody>\n",
       "</table>\n",
       "</div>"
      ],
      "text/plain": [
       "     0    1\n",
       "0  794   80\n",
       "1  181  468"
      ]
     },
     "execution_count": 22,
     "metadata": {},
     "output_type": "execute_result"
    }
   ],
   "source": [
    "sub_num = 18\n",
    "\n",
    "predict_proba = model.predict(X_test,batch_size=20)\n",
    "predict = (predict_proba > 0.5).astype(int)\n",
    "\n",
    "submission = pd.DataFrame(df_test['id'])\n",
    "submission['target']=predict\n",
    "\n",
    "submission.to_csv(f'data/submission{sub_num}.csv',index=False)\n",
    "submission\n",
    "\n",
    "yp_proba = model.predict(X_valid, batch_size=20)\n",
    "yp = (yp_proba > 0.5).astype(int)\n",
    "print('acc', accuracy_score(valid_y, yp))\n",
    "print('recall', recall_score(valid_y, yp))\n",
    "print('precision', precision_score(valid_y, yp))\n",
    "print('F1', f1_score(valid_y, yp))\n",
    "pd.DataFrame(confusion_matrix(valid_y,yp))"
   ]
  },
  {
   "cell_type": "code",
   "execution_count": 23,
   "id": "f24b0f55",
   "metadata": {},
   "outputs": [
    {
     "data": {
      "image/png": "[encoded data removed]",
      "text/plain": [
       "<Figure size 432x288 with 1 Axes>"
      ]
     },
     "metadata": {
      "needs_background": "light"
     },
     "output_type": "display_data"
    }
   ],
   "source": [
    "plt.plot(history.history['accuracy'])\n",
    "plt.plot(history.history['val_accuracy'])\n",
    "plt.title('model accuracy')\n",
    "plt.ylabel('accuracy')\n",
    "plt.xlabel('epoch')\n",
    "plt.legend(['train', 'test'], loc='upper left')\n",
    "plt.show()"
   ]
  },
  {
   "cell_type": "markdown",
   "id": "4e84a11a",
   "metadata": {},
   "source": [
    "## Model 3 -- Three Layer LSTM, 128 units per layer"
   ]
  },
  {
   "cell_type": "code",
   "execution_count": 24,
   "id": "2c5f6ebc",
   "metadata": {},
   "outputs": [
    {
     "name": "stdout",
     "output_type": "stream",
     "text": [
      "Model: \"sequential_2\"\n",
      "_________________________________________________________________\n",
      " Layer (type)                Output Shape              Param #   \n",
      "=================================================================\n",
      " lstm_3 (LSTM)               (None, None, 128)         117248    \n",
      "                                                                 \n",
      " lstm_4 (LSTM)               (None, None, 128)         131584    \n",
      "                                                                 \n",
      " lstm_5 (LSTM)               (None, 128)               131584    \n",
      "                                                                 \n",
      " dense_2 (Dense)             (None, 1)                 129       \n",
      "                                                                 \n",
      "=================================================================\n",
      "Total params: 380,545\n",
      "Trainable params: 380,545\n",
      "Non-trainable params: 0\n",
      "_________________________________________________________________\n"
     ]
    }
   ],
   "source": [
    "DROPOUT = 0.2\n",
    "UNITS_PER_LAYER = 128\n",
    "\n",
    "# Build model\n",
    "model = Sequential()\n",
    "model.add(LSTM(units=UNITS_PER_LAYER, input_shape=(None, 100), return_sequences=True, dropout=DROPOUT))\n",
    "model.add(LSTM(units=UNITS_PER_LAYER, return_sequences=True, dropout=DROPOUT))\n",
    "model.add(LSTM(units=UNITS_PER_LAYER, return_sequences=False, dropout=DROPOUT))\n",
    "model.add(Dense(1, activation='sigmoid'))\n",
    "\n",
    "opt = tf.keras.optimizers.Adam(learning_rate=0.001)\n",
    "\n",
    "model.compile(loss='binary_crossentropy', optimizer=opt, metrics=['accuracy'])\n",
    "\n",
    "file_name = 'weights_{epoch:03d}_{val_accuracy:.4f}.hdf5'\n",
    "\n",
    "checkpoint_filepath = os.path.join('.', 'SAVE_MODELS', file_name)\n",
    "\n",
    "modelCheckpoint = tf.keras.callbacks.ModelCheckpoint(\n",
    "    filepath=checkpoint_filepath,\n",
    "    save_weights_only=True,\n",
    "    monitor='val_accuracy',\n",
    "    mode='max',\n",
    "    save_best_only=True)\n",
    "\n",
    "earlyStopping = EarlyStopping(monitor='val_loss', mode='min', verbose=1, patience=6, restore_best_weights=True)\n",
    "\n",
    "model.summary()"
   ]
  },
  {
   "cell_type": "code",
   "execution_count": 25,
   "id": "080e3492",
   "metadata": {},
   "outputs": [
    {
     "name": "stdout",
     "output_type": "stream",
     "text": [
      "Epoch 1/100\n",
      "305/305 [==============================] - 11s 25ms/step - loss: 0.4883 - accuracy: 0.7765 - val_loss: 0.4456 - val_accuracy: 0.8070\n",
      "Epoch 2/100\n",
      "305/305 [==============================] - 7s 21ms/step - loss: 0.4396 - accuracy: 0.8097 - val_loss: 0.4267 - val_accuracy: 0.8201\n",
      "Epoch 3/100\n",
      "305/305 [==============================] - 7s 21ms/step - loss: 0.4258 - accuracy: 0.8153 - val_loss: 0.4137 - val_accuracy: 0.8293\n",
      "Epoch 4/100\n",
      "305/305 [==============================] - 6s 21ms/step - loss: 0.4071 - accuracy: 0.8217 - val_loss: 0.4165 - val_accuracy: 0.8168\n",
      "Epoch 5/100\n",
      "305/305 [==============================] - 7s 22ms/step - loss: 0.3924 - accuracy: 0.8353 - val_loss: 0.4176 - val_accuracy: 0.8234\n",
      "Epoch 6/100\n",
      "305/305 [==============================] - 7s 22ms/step - loss: 0.3742 - accuracy: 0.8378 - val_loss: 0.4258 - val_accuracy: 0.8293\n",
      "Epoch 7/100\n",
      "305/305 [==============================] - 7s 21ms/step - loss: 0.3582 - accuracy: 0.8501 - val_loss: 0.4379 - val_accuracy: 0.8207\n",
      "Epoch 8/100\n",
      "305/305 [==============================] - 6s 21ms/step - loss: 0.3406 - accuracy: 0.8547 - val_loss: 0.4629 - val_accuracy: 0.8135\n",
      "Epoch 9/100\n",
      "304/305 [============================>.] - ETA: 0s - loss: 0.3217 - accuracy: 0.8627Restoring model weights from the end of the best epoch: 3.\n",
      "305/305 [==============================] - 7s 21ms/step - loss: 0.3217 - accuracy: 0.8627 - val_loss: 0.4670 - val_accuracy: 0.8194\n",
      "Epoch 9: early stopping\n"
     ]
    }
   ],
   "source": [
    "history = model.fit(X_train, train_y, \n",
    "                    batch_size=20, \n",
    "                    epochs=100, \n",
    "                    validation_data=(X_valid,valid_y),\n",
    "                    callbacks=[earlyStopping,modelCheckpoint]\n",
    "                   )"
   ]
  },
  {
   "cell_type": "code",
   "execution_count": 26,
   "id": "9ff1f3a0",
   "metadata": {},
   "outputs": [
    {
     "name": "stdout",
     "output_type": "stream",
     "text": [
      "164/164 [==============================] - 2s 9ms/step\n",
      "77/77 [==============================] - 1s 9ms/step\n",
      "acc 0.8292843072882469\n",
      "recall 0.7349768875192604\n",
      "precision 0.8442477876106195\n",
      "F1 0.785831960461285\n"
     ]
    },
    {
     "data": {
      "text/html": [
       "<div>\n",
       "<style scoped>\n",
       "    .dataframe tbody tr th:only-of-type {\n",
       "        vertical-align: middle;\n",
       "    }\n",
       "\n",
       "    .dataframe tbody tr th {\n",
       "        vertical-align: top;\n",
       "    }\n",
       "\n",
       "    .dataframe thead th {\n",
       "        text-align: right;\n",
       "    }\n",
       "</style>\n",
       "<table border=\"1\" class=\"dataframe\">\n",
       "  <thead>\n",
       "    <tr style=\"text-align: right;\">\n",
       "      <th></th>\n",
       "      <th>0</th>\n",
       "      <th>1</th>\n",
       "    </tr>\n",
       "  </thead>\n",
       "  <tbody>\n",
       "    <tr>\n",
       "      <th>0</th>\n",
       "      <td>786</td>\n",
       "      <td>88</td>\n",
       "    </tr>\n",
       "    <tr>\n",
       "      <th>1</th>\n",
       "      <td>172</td>\n",
       "      <td>477</td>\n",
       "    </tr>\n",
       "  </tbody>\n",
       "</table>\n",
       "</div>"
      ],
      "text/plain": [
       "     0    1\n",
       "0  786   88\n",
       "1  172  477"
      ]
     },
     "execution_count": 26,
     "metadata": {},
     "output_type": "execute_result"
    }
   ],
   "source": [
    "sub_num = 18\n",
    "\n",
    "predict_proba = model.predict(X_test,batch_size=20)\n",
    "predict = (predict_proba > 0.5).astype(int)\n",
    "\n",
    "submission = pd.DataFrame(df_test['id'])\n",
    "submission['target']=predict\n",
    "\n",
    "submission.to_csv(f'data/submission{sub_num}.csv',index=False)\n",
    "submission\n",
    "\n",
    "yp_proba = model.predict(X_valid, batch_size=20)\n",
    "yp = (yp_proba > 0.5).astype(int)\n",
    "print('acc', accuracy_score(valid_y, yp))\n",
    "print('recall', recall_score(valid_y, yp))\n",
    "print('precision', precision_score(valid_y, yp))\n",
    "print('F1', f1_score(valid_y, yp))\n",
    "pd.DataFrame(confusion_matrix(valid_y,yp))"
   ]
  },
  {
   "cell_type": "code",
   "execution_count": 27,
   "id": "bb77d68c",
   "metadata": {},
   "outputs": [
    {
     "data": {
      "image/png": "[encoded data removed]",
      "text/plain": [
       "<Figure size 432x288 with 1 Axes>"
      ]
     },
     "metadata": {
      "needs_background": "light"
     },
     "output_type": "display_data"
    }
   ],
   "source": [
    "plt.plot(history.history['accuracy'])\n",
    "plt.plot(history.history['val_accuracy'])\n",
    "plt.title('model accuracy')\n",
    "plt.ylabel('accuracy')\n",
    "plt.xlabel('epoch')\n",
    "plt.legend(['train', 'test'], loc='upper left')\n",
    "plt.show()"
   ]
  },
  {
   "cell_type": "markdown",
   "id": "f05b915e",
   "metadata": {},
   "source": [
    "## Model 4 - Bi-Directional LSTM with 2 layers, 64 units per layer"
   ]
  },
  {
   "cell_type": "code",
   "execution_count": 28,
   "id": "8fb8cba3",
   "metadata": {},
   "outputs": [
    {
     "name": "stdout",
     "output_type": "stream",
     "text": [
      "Model: \"model\"\n",
      "_________________________________________________________________\n",
      " Layer (type)                Output Shape              Param #   \n",
      "=================================================================\n",
      " input_1 (InputLayer)        [(None, None, 100)]       0         \n",
      "                                                                 \n",
      " bidirectional (Bidirectiona  (None, None, 128)        84480     \n",
      " l)                                                              \n",
      "                                                                 \n",
      " bidirectional_1 (Bidirectio  (None, 128)              98816     \n",
      " nal)                                                            \n",
      "                                                                 \n",
      " dense_3 (Dense)             (None, 1)                 129       \n",
      "                                                                 \n",
      "=================================================================\n",
      "Total params: 183,425\n",
      "Trainable params: 183,425\n",
      "Non-trainable params: 0\n",
      "_________________________________________________________________\n"
     ]
    }
   ],
   "source": [
    "DROPOUT = 0.2\n",
    "UNITS_PER_LAYER = 64\n",
    "\n",
    "## Try switching to a Bidirectional LSTM model, as in this example\n",
    "## https://keras.io/examples/nlp/bidirectional_lstm_imdb/\n",
    "\n",
    "from tensorflow import keras\n",
    "from tensorflow.keras import layers\n",
    "\n",
    "inputs = keras.Input(shape=(None, 100) )\n",
    "x = layers.Bidirectional(LSTM(units=UNITS_PER_LAYER, return_sequences=True, dropout=DROPOUT))(inputs)\n",
    "x = layers.Bidirectional(LSTM(units=UNITS_PER_LAYER, return_sequences=False, dropout=DROPOUT))(x)\n",
    "# Add a classifier\n",
    "outputs = layers.Dense(1,  activation='sigmoid')(x)\n",
    "model = keras.Model(inputs, outputs)\n",
    "\n",
    "opt = tf.keras.optimizers.Adam(learning_rate=0.0005)\n",
    "\n",
    "model.compile(loss='binary_crossentropy', optimizer=opt, metrics=['accuracy'])\n",
    "\n",
    "file_name = 'weights_{epoch:03d}_{val_accuracy:.4f}.hdf5'\n",
    "\n",
    "checkpoint_filepath = os.path.join('.', 'SAVE_MODELS', file_name)\n",
    "\n",
    "modelCheckpoint = tf.keras.callbacks.ModelCheckpoint(\n",
    "    filepath=checkpoint_filepath,\n",
    "    save_weights_only=True,\n",
    "    monitor='val_accuracy',\n",
    "    mode='max',\n",
    "    save_best_only=True)\n",
    "\n",
    "earlyStopping = EarlyStopping(monitor='val_loss', mode='min', verbose=1, patience=6, restore_best_weights=True)\n",
    "\n",
    "model.summary()"
   ]
  },
  {
   "cell_type": "code",
   "execution_count": 29,
   "id": "467999d1",
   "metadata": {},
   "outputs": [
    {
     "name": "stdout",
     "output_type": "stream",
     "text": [
      "Epoch 1/100\n",
      "305/305 [==============================] - 13s 27ms/step - loss: 0.4877 - accuracy: 0.7708 - val_loss: 0.4190 - val_accuracy: 0.8280\n",
      "Epoch 2/100\n",
      "305/305 [==============================] - 7s 22ms/step - loss: 0.4326 - accuracy: 0.8112 - val_loss: 0.4146 - val_accuracy: 0.8345\n",
      "Epoch 3/100\n",
      "305/305 [==============================] - 7s 22ms/step - loss: 0.4227 - accuracy: 0.8156 - val_loss: 0.4068 - val_accuracy: 0.8299\n",
      "Epoch 4/100\n",
      "305/305 [==============================] - 7s 22ms/step - loss: 0.4109 - accuracy: 0.8212 - val_loss: 0.4285 - val_accuracy: 0.8083\n",
      "Epoch 5/100\n",
      "305/305 [==============================] - 7s 22ms/step - loss: 0.4040 - accuracy: 0.8218 - val_loss: 0.4034 - val_accuracy: 0.8345\n",
      "Epoch 6/100\n",
      "305/305 [==============================] - 7s 22ms/step - loss: 0.3902 - accuracy: 0.8309 - val_loss: 0.4119 - val_accuracy: 0.8313\n",
      "Epoch 7/100\n",
      "305/305 [==============================] - 7s 22ms/step - loss: 0.3853 - accuracy: 0.8343 - val_loss: 0.4241 - val_accuracy: 0.8063\n",
      "Epoch 8/100\n",
      "305/305 [==============================] - 7s 22ms/step - loss: 0.3727 - accuracy: 0.8358 - val_loss: 0.4245 - val_accuracy: 0.8293\n",
      "Epoch 9/100\n",
      "305/305 [==============================] - 7s 22ms/step - loss: 0.3654 - accuracy: 0.8430 - val_loss: 0.4168 - val_accuracy: 0.8273\n",
      "Epoch 10/100\n",
      "305/305 [==============================] - 7s 22ms/step - loss: 0.3570 - accuracy: 0.8452 - val_loss: 0.4196 - val_accuracy: 0.8273\n",
      "Epoch 11/100\n",
      "304/305 [============================>.] - ETA: 0s - loss: 0.3412 - accuracy: 0.8539Restoring model weights from the end of the best epoch: 5.\n",
      "305/305 [==============================] - 7s 22ms/step - loss: 0.3412 - accuracy: 0.8540 - val_loss: 0.4197 - val_accuracy: 0.8280\n",
      "Epoch 11: early stopping\n"
     ]
    }
   ],
   "source": [
    "history = model.fit(X_train, train_y, \n",
    "                    batch_size=20, \n",
    "                    epochs=100, \n",
    "                    validation_data=(X_valid,valid_y),\n",
    "                    callbacks=[earlyStopping,modelCheckpoint]\n",
    "                   )"
   ]
  },
  {
   "cell_type": "code",
   "execution_count": 30,
   "id": "e2a3a245",
   "metadata": {},
   "outputs": [
    {
     "name": "stdout",
     "output_type": "stream",
     "text": [
      "164/164 [==============================] - 2s 9ms/step\n",
      "77/77 [==============================] - 1s 8ms/step\n",
      "acc 0.8345370978332239\n",
      "recall 0.724191063174114\n",
      "precision 0.8655616942909761\n",
      "F1 0.7885906040268456\n"
     ]
    },
    {
     "data": {
      "text/html": [
       "<div>\n",
       "<style scoped>\n",
       "    .dataframe tbody tr th:only-of-type {\n",
       "        vertical-align: middle;\n",
       "    }\n",
       "\n",
       "    .dataframe tbody tr th {\n",
       "        vertical-align: top;\n",
       "    }\n",
       "\n",
       "    .dataframe thead th {\n",
       "        text-align: right;\n",
       "    }\n",
       "</style>\n",
       "<table border=\"1\" class=\"dataframe\">\n",
       "  <thead>\n",
       "    <tr style=\"text-align: right;\">\n",
       "      <th></th>\n",
       "      <th>0</th>\n",
       "      <th>1</th>\n",
       "    </tr>\n",
       "  </thead>\n",
       "  <tbody>\n",
       "    <tr>\n",
       "      <th>0</th>\n",
       "      <td>801</td>\n",
       "      <td>73</td>\n",
       "    </tr>\n",
       "    <tr>\n",
       "      <th>1</th>\n",
       "      <td>179</td>\n",
       "      <td>470</td>\n",
       "    </tr>\n",
       "  </tbody>\n",
       "</table>\n",
       "</div>"
      ],
      "text/plain": [
       "     0    1\n",
       "0  801   73\n",
       "1  179  470"
      ]
     },
     "execution_count": 30,
     "metadata": {},
     "output_type": "execute_result"
    }
   ],
   "source": [
    "sub_num = 18\n",
    "\n",
    "predict_proba = model.predict(X_test,batch_size=20)\n",
    "predict = (predict_proba > 0.5).astype(int)\n",
    "\n",
    "submission = pd.DataFrame(df_test['id'])\n",
    "submission['target']=predict\n",
    "\n",
    "submission.to_csv(f'data/submission{sub_num}.csv',index=False)\n",
    "submission\n",
    "\n",
    "yp_proba = model.predict(X_valid, batch_size=20)\n",
    "yp = (yp_proba > 0.5).astype(int)\n",
    "print('acc', accuracy_score(valid_y, yp))\n",
    "print('recall', recall_score(valid_y, yp))\n",
    "print('precision', precision_score(valid_y, yp))\n",
    "print('F1', f1_score(valid_y, yp))\n",
    "pd.DataFrame(confusion_matrix(valid_y,yp))"
   ]
  },
  {
   "cell_type": "code",
   "execution_count": 31,
   "id": "439f6199",
   "metadata": {},
   "outputs": [
    {
     "data": {
      "image/png": "[encoded data removed]",
      "text/plain": [
       "<Figure size 432x288 with 1 Axes>"
      ]
     },
     "metadata": {
      "needs_background": "light"
     },
     "output_type": "display_data"
    }
   ],
   "source": [
    "plt.plot(history.history['accuracy'])\n",
    "plt.plot(history.history['val_accuracy'])\n",
    "plt.title('model accuracy')\n",
    "plt.ylabel('accuracy')\n",
    "plt.xlabel('epoch')\n",
    "plt.legend(['train', 'test'], loc='upper left')\n",
    "plt.show()"
   ]
  },
  {
   "cell_type": "markdown",
   "id": "754d8eae",
   "metadata": {},
   "source": [
    "## Model 5  - Bi-Directional LSTM with 3 layers, 64 units per layer"
   ]
  },
  {
   "cell_type": "code",
   "execution_count": 32,
   "id": "06124bc4",
   "metadata": {},
   "outputs": [
    {
     "name": "stdout",
     "output_type": "stream",
     "text": [
      "Model: \"model_1\"\n",
      "_________________________________________________________________\n",
      " Layer (type)                Output Shape              Param #   \n",
      "=================================================================\n",
      " input_2 (InputLayer)        [(None, None, 100)]       0         \n",
      "                                                                 \n",
      " bidirectional_2 (Bidirectio  (None, None, 128)        84480     \n",
      " nal)                                                            \n",
      "                                                                 \n",
      " bidirectional_3 (Bidirectio  (None, None, 128)        98816     \n",
      " nal)                                                            \n",
      "                                                                 \n",
      " bidirectional_4 (Bidirectio  (None, 128)              98816     \n",
      " nal)                                                            \n",
      "                                                                 \n",
      " dense_4 (Dense)             (None, 1)                 129       \n",
      "                                                                 \n",
      "=================================================================\n",
      "Total params: 282,241\n",
      "Trainable params: 282,241\n",
      "Non-trainable params: 0\n",
      "_________________________________________________________________\n"
     ]
    }
   ],
   "source": [
    "DROPOUT = 0.2\n",
    "UNITS_PER_LAYER = 64\n",
    "\n",
    "## Try switching to a Bidirectional LSTM model, as in this example\n",
    "## https://keras.io/examples/nlp/bidirectional_lstm_imdb/\n",
    "\n",
    "from tensorflow import keras\n",
    "from tensorflow.keras import layers\n",
    "\n",
    "inputs = keras.Input(shape=(None, 100) )\n",
    "x = layers.Bidirectional(LSTM(units=UNITS_PER_LAYER, return_sequences=True, dropout=DROPOUT))(inputs)\n",
    "x = layers.Bidirectional(LSTM(units=UNITS_PER_LAYER, return_sequences=True, dropout=DROPOUT))(x)\n",
    "x = layers.Bidirectional(LSTM(units=UNITS_PER_LAYER, return_sequences=False, dropout=DROPOUT))(x)\n",
    "# Add a classifier\n",
    "outputs = layers.Dense(1,  activation='sigmoid')(x)\n",
    "model = keras.Model(inputs, outputs)\n",
    "\n",
    "opt = tf.keras.optimizers.Adam(learning_rate=0.0005)\n",
    "\n",
    "model.compile(loss='binary_crossentropy', optimizer=opt, metrics=['accuracy'])\n",
    "\n",
    "file_name = 'weights_{epoch:03d}_{val_accuracy:.4f}.hdf5'\n",
    "\n",
    "checkpoint_filepath = os.path.join('.', 'SAVE_MODELS', file_name)\n",
    "\n",
    "modelCheckpoint = tf.keras.callbacks.ModelCheckpoint(\n",
    "    filepath=checkpoint_filepath,\n",
    "    save_weights_only=True,\n",
    "    monitor='val_accuracy',\n",
    "    mode='max',\n",
    "    save_best_only=True)\n",
    "\n",
    "earlyStopping = EarlyStopping(monitor='val_loss', mode='min', verbose=1, patience=6, restore_best_weights=True)\n",
    "\n",
    "model.summary()"
   ]
  },
  {
   "cell_type": "code",
   "execution_count": 33,
   "id": "334a4142",
   "metadata": {},
   "outputs": [
    {
     "name": "stdout",
     "output_type": "stream",
     "text": [
      "Epoch 1/100\n",
      "305/305 [==============================] - 18s 38ms/step - loss: 0.4926 - accuracy: 0.7637 - val_loss: 0.4338 - val_accuracy: 0.8142\n",
      "Epoch 2/100\n",
      "305/305 [==============================] - 9s 31ms/step - loss: 0.4372 - accuracy: 0.8067 - val_loss: 0.4515 - val_accuracy: 0.8142\n",
      "Epoch 3/100\n",
      "305/305 [==============================] - 9s 31ms/step - loss: 0.4257 - accuracy: 0.8158 - val_loss: 0.4363 - val_accuracy: 0.8096\n",
      "Epoch 4/100\n",
      "305/305 [==============================] - 10s 31ms/step - loss: 0.4076 - accuracy: 0.8269 - val_loss: 0.4243 - val_accuracy: 0.8181\n",
      "Epoch 5/100\n",
      "305/305 [==============================] - 9s 31ms/step - loss: 0.4003 - accuracy: 0.8220 - val_loss: 0.4141 - val_accuracy: 0.8280\n",
      "Epoch 6/100\n",
      "305/305 [==============================] - 10s 31ms/step - loss: 0.3901 - accuracy: 0.8276 - val_loss: 0.4302 - val_accuracy: 0.8293\n",
      "Epoch 7/100\n",
      "305/305 [==============================] - 9s 31ms/step - loss: 0.3808 - accuracy: 0.8355 - val_loss: 0.4116 - val_accuracy: 0.8221\n",
      "Epoch 8/100\n",
      "305/305 [==============================] - 10s 31ms/step - loss: 0.3705 - accuracy: 0.8379 - val_loss: 0.4271 - val_accuracy: 0.8076\n",
      "Epoch 9/100\n",
      "305/305 [==============================] - 9s 31ms/step - loss: 0.3656 - accuracy: 0.8365 - val_loss: 0.4282 - val_accuracy: 0.8162\n",
      "Epoch 10/100\n",
      "305/305 [==============================] - 9s 31ms/step - loss: 0.3443 - accuracy: 0.8570 - val_loss: 0.4426 - val_accuracy: 0.8142\n",
      "Epoch 11/100\n",
      "305/305 [==============================] - 9s 31ms/step - loss: 0.3330 - accuracy: 0.8596 - val_loss: 0.4398 - val_accuracy: 0.8214\n",
      "Epoch 12/100\n",
      "305/305 [==============================] - 9s 31ms/step - loss: 0.3225 - accuracy: 0.8663 - val_loss: 0.4548 - val_accuracy: 0.8253\n",
      "Epoch 13/100\n",
      "305/305 [==============================] - ETA: 0s - loss: 0.3089 - accuracy: 0.8683Restoring model weights from the end of the best epoch: 7.\n",
      "305/305 [==============================] - 10s 31ms/step - loss: 0.3089 - accuracy: 0.8683 - val_loss: 0.4420 - val_accuracy: 0.8181\n",
      "Epoch 13: early stopping\n"
     ]
    }
   ],
   "source": [
    "history = model.fit(X_train, train_y, \n",
    "                    batch_size=20, \n",
    "                    epochs=100, \n",
    "                    validation_data=(X_valid,valid_y),\n",
    "                    callbacks=[earlyStopping,modelCheckpoint]\n",
    "                   )"
   ]
  },
  {
   "cell_type": "code",
   "execution_count": 34,
   "id": "17b4ac25",
   "metadata": {},
   "outputs": [
    {
     "name": "stdout",
     "output_type": "stream",
     "text": [
      "164/164 [==============================] - 3s 11ms/step\n",
      "77/77 [==============================] - 1s 11ms/step\n",
      "acc 0.8220617202889035\n",
      "recall 0.7257318952234206\n",
      "precision 0.8351063829787234\n",
      "F1 0.7765869744435285\n"
     ]
    },
    {
     "data": {
      "text/html": [
       "<div>\n",
       "<style scoped>\n",
       "    .dataframe tbody tr th:only-of-type {\n",
       "        vertical-align: middle;\n",
       "    }\n",
       "\n",
       "    .dataframe tbody tr th {\n",
       "        vertical-align: top;\n",
       "    }\n",
       "\n",
       "    .dataframe thead th {\n",
       "        text-align: right;\n",
       "    }\n",
       "</style>\n",
       "<table border=\"1\" class=\"dataframe\">\n",
       "  <thead>\n",
       "    <tr style=\"text-align: right;\">\n",
       "      <th></th>\n",
       "      <th>0</th>\n",
       "      <th>1</th>\n",
       "    </tr>\n",
       "  </thead>\n",
       "  <tbody>\n",
       "    <tr>\n",
       "      <th>0</th>\n",
       "      <td>781</td>\n",
       "      <td>93</td>\n",
       "    </tr>\n",
       "    <tr>\n",
       "      <th>1</th>\n",
       "      <td>178</td>\n",
       "      <td>471</td>\n",
       "    </tr>\n",
       "  </tbody>\n",
       "</table>\n",
       "</div>"
      ],
      "text/plain": [
       "     0    1\n",
       "0  781   93\n",
       "1  178  471"
      ]
     },
     "execution_count": 34,
     "metadata": {},
     "output_type": "execute_result"
    }
   ],
   "source": [
    "sub_num = 19\n",
    "\n",
    "predict_proba = model.predict(X_test,batch_size=20)\n",
    "predict = (predict_proba > 0.5).astype(int)\n",
    "\n",
    "submission = pd.DataFrame(df_test['id'])\n",
    "submission['target']=predict\n",
    "\n",
    "submission.to_csv(f'data/submission{sub_num}.csv',index=False)\n",
    "submission\n",
    "\n",
    "yp_proba = model.predict(X_valid, batch_size=20)\n",
    "yp = (yp_proba > 0.5).astype(int)\n",
    "print('acc', accuracy_score(valid_y, yp))\n",
    "print('recall', recall_score(valid_y, yp))\n",
    "print('precision', precision_score(valid_y, yp))\n",
    "print('F1', f1_score(valid_y, yp))\n",
    "pd.DataFrame(confusion_matrix(valid_y,yp))"
   ]
  },
  {
   "cell_type": "code",
   "execution_count": 35,
   "id": "de92b89e",
   "metadata": {},
   "outputs": [
    {
     "data": {
      "image/png": "[encoded data removed]",
      "text/plain": [
       "<Figure size 432x288 with 1 Axes>"
      ]
     },
     "metadata": {
      "needs_background": "light"
     },
     "output_type": "display_data"
    }
   ],
   "source": [
    "plt.plot(history.history['accuracy'])\n",
    "plt.plot(history.history['val_accuracy'])\n",
    "plt.title('model accuracy')\n",
    "plt.ylabel('accuracy')\n",
    "plt.xlabel('epoch')\n",
    "plt.legend(['train', 'test'], loc='upper left')\n",
    "plt.show()"
   ]
  },
  {
   "cell_type": "markdown",
   "id": "0f2d4e25",
   "metadata": {},
   "source": [
    "### References\n",
    "\n",
    "1) Kaggle Natural Language Processing with Disaster Tweets https://www.kaggle.com/competitions/nlp-getting-started/overview\n",
    "    \n",
    "2) GloVe: Global Vectors for Word Representation https://nlp.stanford.edu/projects/glove/\n",
    "\n",
    "3) DataCamp Course: Recurrent Neural Networks for Language Modeling in Pythone: https://campus.datacamp.com/courses/recurrent-neural-networks-for-language-modeling-in-python\n",
    "\n",
    "4) Keras.io example code for Bi-Directional LSTM model: https://keras.io/examples/nlp/bidirectional_lstm_imdb/\n",
    "\n",
    "5) Advanced Recurrent Neural Networks: Bidirectional RNNs https://blog.paperspace.com/bidirectional-rnn-keras/\n",
    "\n",
    "6) Word Embeddings in Python with Spacy and Gensim https://www.shanelynn.ie/word-embeddings-in-python-with-spacy-and-gensim/"
   ]
  },
  {
   "cell_type": "code",
   "execution_count": null,
   "id": "b98a418f",
   "metadata": {},
   "outputs": [],
   "source": []
  }
 ],
 "metadata": {
  "kernelspec": {
   "display_name": "Python 3 (ipykernel)",
   "language": "python",
   "name": "python3"
  },
  "language_info": {
   "codemirror_mode": {
    "name": "ipython",
    "version": 3
   },
   "file_extension": ".py",
   "mimetype": "text/x-python",
   "name": "python",
   "nbconvert_exporter": "python",
   "pygments_lexer": "ipython3",
   "version": "3.9.12"
  }
 },
 "nbformat": 4,
 "nbformat_minor": 5
}

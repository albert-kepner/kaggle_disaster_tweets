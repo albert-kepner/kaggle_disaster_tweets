{
 "cells": [
  {
   "cell_type": "code",
   "execution_count": 1,
   "id": "55d79e54",
   "metadata": {},
   "outputs": [],
   "source": [
    "import tensorflow as tf\n",
    "from tensorflow import keras\n",
    "from tensorflow.keras.models import Sequential, Model\n",
    "from tensorflow.keras.datasets import imdb\n",
    "from tensorflow.keras.layers import Dense, LSTM, GRU, Embedding, Input\n",
    "from tensorflow.keras.preprocessing.text import Tokenizer\n",
    "from tensorflow.keras.preprocessing.sequence import pad_sequences\n",
    "from sklearn.model_selection import train_test_split\n",
    "from tensorflow.keras.callbacks import EarlyStopping, ModelCheckpoint\n",
    "from tensorflow.keras.optimizers import Adam\n",
    "import pandas as pd\n",
    "import numpy as np\n",
    "import os\n",
    "\n",
    "def get_glove_vectors(filename=\"data/glove.6B.100d.txt\"):\n",
    "    ## function from https://campus.datacamp.com/courses/recurrent-neural-networks-for-language-modeling-in-python/rnn-architecture?ex=7\n",
    "    # Get all word vectors from pre-trained model\n",
    "    glove_vector_dict = {}\n",
    "    with open(filename, encoding=\"UTF-8\") as f:\n",
    "        for line in f:\n",
    "            values = line.split()\n",
    "            word = values[0]\n",
    "            coefs = values[1:]\n",
    "            glove_vector_dict[word] = np.asarray(coefs, dtype='float32')\n",
    "    return glove_vector_dict"
   ]
  },
  {
   "cell_type": "code",
   "execution_count": 2,
   "id": "997db0a4",
   "metadata": {},
   "outputs": [
    {
     "name": "stdout",
     "output_type": "stream",
     "text": [
      "2.9.1\n",
      "2.9.0\n"
     ]
    }
   ],
   "source": [
    "print(tf.__version__)\n",
    "print(keras.__version__)"
   ]
  },
  {
   "cell_type": "code",
   "execution_count": 3,
   "id": "e8c4d748",
   "metadata": {},
   "outputs": [
    {
     "name": "stdout",
     "output_type": "stream",
     "text": [
      "elapsed seconds = 10.228618621826172\n"
     ]
    },
    {
     "data": {
      "text/plain": [
       "dict"
      ]
     },
     "execution_count": 3,
     "metadata": {},
     "output_type": "execute_result"
    }
   ],
   "source": [
    "import time\n",
    "start = time.time()\n",
    "\n",
    "glove_vector_dict = get_glove_vectors()\n",
    "\n",
    "end = time.time()\n",
    "print(f'elapsed seconds = {end - start}')\n",
    "type(glove_vector_dict)"
   ]
  },
  {
   "cell_type": "code",
   "execution_count": 4,
   "id": "150bc528",
   "metadata": {},
   "outputs": [
    {
     "data": {
      "text/plain": [
       "array([-0.038194, -0.24487 ,  0.72812 , -0.39961 ,  0.083172,  0.043953,\n",
       "       -0.39141 ,  0.3344  , -0.57545 ,  0.087459,  0.28787 , -0.06731 ,\n",
       "        0.30906 , -0.26384 , -0.13231 , -0.20757 ,  0.33395 , -0.33848 ,\n",
       "       -0.31743 , -0.48336 ,  0.1464  , -0.37304 ,  0.34577 ,  0.052041,\n",
       "        0.44946 , -0.46971 ,  0.02628 , -0.54155 , -0.15518 , -0.14107 ,\n",
       "       -0.039722,  0.28277 ,  0.14393 ,  0.23464 , -0.31021 ,  0.086173,\n",
       "        0.20397 ,  0.52624 ,  0.17164 , -0.082378, -0.71787 , -0.41531 ,\n",
       "        0.20335 , -0.12763 ,  0.41367 ,  0.55187 ,  0.57908 , -0.33477 ,\n",
       "       -0.36559 , -0.54857 , -0.062892,  0.26584 ,  0.30205 ,  0.99775 ,\n",
       "       -0.80481 , -3.0243  ,  0.01254 , -0.36942 ,  2.2167  ,  0.72201 ,\n",
       "       -0.24978 ,  0.92136 ,  0.034514,  0.46745 ,  1.1079  , -0.19358 ,\n",
       "       -0.074575,  0.23353 , -0.052062, -0.22044 ,  0.057162, -0.15806 ,\n",
       "       -0.30798 , -0.41625 ,  0.37972 ,  0.15006 , -0.53212 , -0.2055  ,\n",
       "       -1.2526  ,  0.071624,  0.70565 ,  0.49744 , -0.42063 ,  0.26148 ,\n",
       "       -1.538   , -0.30223 , -0.073438, -0.28312 ,  0.37104 , -0.25217 ,\n",
       "        0.016215, -0.017099, -0.38984 ,  0.87424 , -0.72569 , -0.51058 ,\n",
       "       -0.52028 , -0.1459  ,  0.8278  ,  0.27062 ], dtype=float32)"
      ]
     },
     "execution_count": 4,
     "metadata": {},
     "output_type": "execute_result"
    }
   ],
   "source": [
    "glove_vector_dict['the']"
   ]
  },
  {
   "cell_type": "code",
   "execution_count": 5,
   "id": "bd27e533",
   "metadata": {},
   "outputs": [
    {
     "data": {
      "text/html": [
       "<div>\n",
       "<style scoped>\n",
       "    .dataframe tbody tr th:only-of-type {\n",
       "        vertical-align: middle;\n",
       "    }\n",
       "\n",
       "    .dataframe tbody tr th {\n",
       "        vertical-align: top;\n",
       "    }\n",
       "\n",
       "    .dataframe thead th {\n",
       "        text-align: right;\n",
       "    }\n",
       "</style>\n",
       "<table border=\"1\" class=\"dataframe\">\n",
       "  <thead>\n",
       "    <tr style=\"text-align: right;\">\n",
       "      <th></th>\n",
       "      <th>id</th>\n",
       "      <th>keyword</th>\n",
       "      <th>location</th>\n",
       "      <th>text</th>\n",
       "      <th>target</th>\n",
       "    </tr>\n",
       "  </thead>\n",
       "  <tbody>\n",
       "    <tr>\n",
       "      <th>0</th>\n",
       "      <td>1</td>\n",
       "      <td>NaN</td>\n",
       "      <td>NaN</td>\n",
       "      <td>Our Deeds are the Reason of this #earthquake M...</td>\n",
       "      <td>1</td>\n",
       "    </tr>\n",
       "    <tr>\n",
       "      <th>1</th>\n",
       "      <td>4</td>\n",
       "      <td>NaN</td>\n",
       "      <td>NaN</td>\n",
       "      <td>Forest fire near La Ronge Sask. Canada</td>\n",
       "      <td>1</td>\n",
       "    </tr>\n",
       "    <tr>\n",
       "      <th>2</th>\n",
       "      <td>5</td>\n",
       "      <td>NaN</td>\n",
       "      <td>NaN</td>\n",
       "      <td>All residents asked to 'shelter in place' are ...</td>\n",
       "      <td>1</td>\n",
       "    </tr>\n",
       "    <tr>\n",
       "      <th>3</th>\n",
       "      <td>6</td>\n",
       "      <td>NaN</td>\n",
       "      <td>NaN</td>\n",
       "      <td>13,000 people receive #wildfires evacuation or...</td>\n",
       "      <td>1</td>\n",
       "    </tr>\n",
       "    <tr>\n",
       "      <th>4</th>\n",
       "      <td>7</td>\n",
       "      <td>NaN</td>\n",
       "      <td>NaN</td>\n",
       "      <td>Just got sent this photo from Ruby #Alaska as ...</td>\n",
       "      <td>1</td>\n",
       "    </tr>\n",
       "    <tr>\n",
       "      <th>...</th>\n",
       "      <td>...</td>\n",
       "      <td>...</td>\n",
       "      <td>...</td>\n",
       "      <td>...</td>\n",
       "      <td>...</td>\n",
       "    </tr>\n",
       "    <tr>\n",
       "      <th>7608</th>\n",
       "      <td>10869</td>\n",
       "      <td>NaN</td>\n",
       "      <td>NaN</td>\n",
       "      <td>Two giant cranes holding a bridge collapse int...</td>\n",
       "      <td>1</td>\n",
       "    </tr>\n",
       "    <tr>\n",
       "      <th>7609</th>\n",
       "      <td>10870</td>\n",
       "      <td>NaN</td>\n",
       "      <td>NaN</td>\n",
       "      <td>@aria_ahrary @TheTawniest The out of control w...</td>\n",
       "      <td>1</td>\n",
       "    </tr>\n",
       "    <tr>\n",
       "      <th>7610</th>\n",
       "      <td>10871</td>\n",
       "      <td>NaN</td>\n",
       "      <td>NaN</td>\n",
       "      <td>M1.94 [01:04 UTC]?5km S of Volcano Hawaii. htt...</td>\n",
       "      <td>1</td>\n",
       "    </tr>\n",
       "    <tr>\n",
       "      <th>7611</th>\n",
       "      <td>10872</td>\n",
       "      <td>NaN</td>\n",
       "      <td>NaN</td>\n",
       "      <td>Police investigating after an e-bike collided ...</td>\n",
       "      <td>1</td>\n",
       "    </tr>\n",
       "    <tr>\n",
       "      <th>7612</th>\n",
       "      <td>10873</td>\n",
       "      <td>NaN</td>\n",
       "      <td>NaN</td>\n",
       "      <td>The Latest: More Homes Razed by Northern Calif...</td>\n",
       "      <td>1</td>\n",
       "    </tr>\n",
       "  </tbody>\n",
       "</table>\n",
       "<p>7613 rows × 5 columns</p>\n",
       "</div>"
      ],
      "text/plain": [
       "         id keyword location  \\\n",
       "0         1     NaN      NaN   \n",
       "1         4     NaN      NaN   \n",
       "2         5     NaN      NaN   \n",
       "3         6     NaN      NaN   \n",
       "4         7     NaN      NaN   \n",
       "...     ...     ...      ...   \n",
       "7608  10869     NaN      NaN   \n",
       "7609  10870     NaN      NaN   \n",
       "7610  10871     NaN      NaN   \n",
       "7611  10872     NaN      NaN   \n",
       "7612  10873     NaN      NaN   \n",
       "\n",
       "                                                   text  target  \n",
       "0     Our Deeds are the Reason of this #earthquake M...       1  \n",
       "1                Forest fire near La Ronge Sask. Canada       1  \n",
       "2     All residents asked to 'shelter in place' are ...       1  \n",
       "3     13,000 people receive #wildfires evacuation or...       1  \n",
       "4     Just got sent this photo from Ruby #Alaska as ...       1  \n",
       "...                                                 ...     ...  \n",
       "7608  Two giant cranes holding a bridge collapse int...       1  \n",
       "7609  @aria_ahrary @TheTawniest The out of control w...       1  \n",
       "7610  M1.94 [01:04 UTC]?5km S of Volcano Hawaii. htt...       1  \n",
       "7611  Police investigating after an e-bike collided ...       1  \n",
       "7612  The Latest: More Homes Razed by Northern Calif...       1  \n",
       "\n",
       "[7613 rows x 5 columns]"
      ]
     },
     "execution_count": 5,
     "metadata": {},
     "output_type": "execute_result"
    }
   ],
   "source": [
    "import pandas as pd\n",
    "import numpy as np\n",
    "\n",
    "df_train = pd.read_csv('data/train.csv')\n",
    "df_test = pd.read_csv('data/test.csv')\n",
    "df_train"
   ]
  },
  {
   "cell_type": "code",
   "execution_count": 6,
   "id": "5f3589ca",
   "metadata": {},
   "outputs": [
    {
     "data": {
      "text/html": [
       "<div>\n",
       "<style scoped>\n",
       "    .dataframe tbody tr th:only-of-type {\n",
       "        vertical-align: middle;\n",
       "    }\n",
       "\n",
       "    .dataframe tbody tr th {\n",
       "        vertical-align: top;\n",
       "    }\n",
       "\n",
       "    .dataframe thead th {\n",
       "        text-align: right;\n",
       "    }\n",
       "</style>\n",
       "<table border=\"1\" class=\"dataframe\">\n",
       "  <thead>\n",
       "    <tr style=\"text-align: right;\">\n",
       "      <th></th>\n",
       "      <th>id</th>\n",
       "      <th>keyword</th>\n",
       "      <th>location</th>\n",
       "      <th>text</th>\n",
       "    </tr>\n",
       "  </thead>\n",
       "  <tbody>\n",
       "    <tr>\n",
       "      <th>0</th>\n",
       "      <td>0</td>\n",
       "      <td>NaN</td>\n",
       "      <td>NaN</td>\n",
       "      <td>Just happened a terrible car crash</td>\n",
       "    </tr>\n",
       "    <tr>\n",
       "      <th>1</th>\n",
       "      <td>2</td>\n",
       "      <td>NaN</td>\n",
       "      <td>NaN</td>\n",
       "      <td>Heard about #earthquake is different cities, s...</td>\n",
       "    </tr>\n",
       "    <tr>\n",
       "      <th>2</th>\n",
       "      <td>3</td>\n",
       "      <td>NaN</td>\n",
       "      <td>NaN</td>\n",
       "      <td>there is a forest fire at spot pond, geese are...</td>\n",
       "    </tr>\n",
       "    <tr>\n",
       "      <th>3</th>\n",
       "      <td>9</td>\n",
       "      <td>NaN</td>\n",
       "      <td>NaN</td>\n",
       "      <td>Apocalypse lighting. #Spokane #wildfires</td>\n",
       "    </tr>\n",
       "    <tr>\n",
       "      <th>4</th>\n",
       "      <td>11</td>\n",
       "      <td>NaN</td>\n",
       "      <td>NaN</td>\n",
       "      <td>Typhoon Soudelor kills 28 in China and Taiwan</td>\n",
       "    </tr>\n",
       "    <tr>\n",
       "      <th>...</th>\n",
       "      <td>...</td>\n",
       "      <td>...</td>\n",
       "      <td>...</td>\n",
       "      <td>...</td>\n",
       "    </tr>\n",
       "    <tr>\n",
       "      <th>3258</th>\n",
       "      <td>10861</td>\n",
       "      <td>NaN</td>\n",
       "      <td>NaN</td>\n",
       "      <td>EARTHQUAKE SAFETY LOS ANGELES ÛÒ SAFETY FASTE...</td>\n",
       "    </tr>\n",
       "    <tr>\n",
       "      <th>3259</th>\n",
       "      <td>10865</td>\n",
       "      <td>NaN</td>\n",
       "      <td>NaN</td>\n",
       "      <td>Storm in RI worse than last hurricane. My city...</td>\n",
       "    </tr>\n",
       "    <tr>\n",
       "      <th>3260</th>\n",
       "      <td>10868</td>\n",
       "      <td>NaN</td>\n",
       "      <td>NaN</td>\n",
       "      <td>Green Line derailment in Chicago http://t.co/U...</td>\n",
       "    </tr>\n",
       "    <tr>\n",
       "      <th>3261</th>\n",
       "      <td>10874</td>\n",
       "      <td>NaN</td>\n",
       "      <td>NaN</td>\n",
       "      <td>MEG issues Hazardous Weather Outlook (HWO) htt...</td>\n",
       "    </tr>\n",
       "    <tr>\n",
       "      <th>3262</th>\n",
       "      <td>10875</td>\n",
       "      <td>NaN</td>\n",
       "      <td>NaN</td>\n",
       "      <td>#CityofCalgary has activated its Municipal Eme...</td>\n",
       "    </tr>\n",
       "  </tbody>\n",
       "</table>\n",
       "<p>3263 rows × 4 columns</p>\n",
       "</div>"
      ],
      "text/plain": [
       "         id keyword location  \\\n",
       "0         0     NaN      NaN   \n",
       "1         2     NaN      NaN   \n",
       "2         3     NaN      NaN   \n",
       "3         9     NaN      NaN   \n",
       "4        11     NaN      NaN   \n",
       "...     ...     ...      ...   \n",
       "3258  10861     NaN      NaN   \n",
       "3259  10865     NaN      NaN   \n",
       "3260  10868     NaN      NaN   \n",
       "3261  10874     NaN      NaN   \n",
       "3262  10875     NaN      NaN   \n",
       "\n",
       "                                                   text  \n",
       "0                    Just happened a terrible car crash  \n",
       "1     Heard about #earthquake is different cities, s...  \n",
       "2     there is a forest fire at spot pond, geese are...  \n",
       "3              Apocalypse lighting. #Spokane #wildfires  \n",
       "4         Typhoon Soudelor kills 28 in China and Taiwan  \n",
       "...                                                 ...  \n",
       "3258  EARTHQUAKE SAFETY LOS ANGELES ÛÒ SAFETY FASTE...  \n",
       "3259  Storm in RI worse than last hurricane. My city...  \n",
       "3260  Green Line derailment in Chicago http://t.co/U...  \n",
       "3261  MEG issues Hazardous Weather Outlook (HWO) htt...  \n",
       "3262  #CityofCalgary has activated its Municipal Eme...  \n",
       "\n",
       "[3263 rows x 4 columns]"
      ]
     },
     "execution_count": 6,
     "metadata": {},
     "output_type": "execute_result"
    }
   ],
   "source": [
    "df_test"
   ]
  },
  {
   "cell_type": "code",
   "execution_count": 7,
   "id": "86f4f0a5",
   "metadata": {},
   "outputs": [
    {
     "name": "stdout",
     "output_type": "stream",
     "text": [
      "      id              keyword   location  \\\n",
      "161  232  airplane%20accident  Havenford   \n",
      "\n",
      "                                                  text  target  \n",
      "161  + Nicole Fletcher one of a victim of crashed a...       1  \n"
     ]
    },
    {
     "data": {
      "text/plain": [
       "\"+ Nicole Fletcher one of a victim of crashed airplane few times ago. \\n\\nThe accident left a little bit trauma for her. Although she's \\n\\n+\""
      ]
     },
     "execution_count": 7,
     "metadata": {},
     "output_type": "execute_result"
    }
   ],
   "source": [
    "s1 = df_train[df_train['id']==232]\n",
    "print(s1)\n",
    "s2 = df_train.iloc[161,3]\n",
    "s2"
   ]
  },
  {
   "cell_type": "code",
   "execution_count": 8,
   "id": "7c95a8ea",
   "metadata": {},
   "outputs": [
    {
     "data": {
      "text/plain": [
       "0.4296597924602653"
      ]
     },
     "execution_count": 8,
     "metadata": {},
     "output_type": "execute_result"
    }
   ],
   "source": [
    "df_train['target'].agg(sum)/len(df_train)"
   ]
  },
  {
   "cell_type": "code",
   "execution_count": 9,
   "id": "2524e713",
   "metadata": {},
   "outputs": [],
   "source": [
    "import re\n",
    "\n",
    "def clean_up_tweet(tweet):\n",
    "    \"\"\"\n",
    "    Clean up the content of one tweet, removing punctuation and numbers. \n",
    "    \n",
    "    Parameters:\n",
    "    tweet(str):The text of the tweet\n",
    "    \n",
    "    Returns:\n",
    "    word_list: A list of pure alphabetic words in lower case\n",
    "    \n",
    "    \"\"\"\n",
    "    ## Remove all characters execept alphabetic chars and space,\n",
    "    ## convert to lower case and split on space.\n",
    "    word_list = re.sub('[^A-Za-z ]+','',tweet).lower().split(' ')\n",
    "    return word_list\n",
    "    "
   ]
  },
  {
   "cell_type": "code",
   "execution_count": 10,
   "id": "2216bfc6",
   "metadata": {},
   "outputs": [
    {
     "data": {
      "text/plain": [
       "['',\n",
       " 'nicole',\n",
       " 'fletcher',\n",
       " 'one',\n",
       " 'of',\n",
       " 'a',\n",
       " 'victim',\n",
       " 'of',\n",
       " 'crashed',\n",
       " 'airplane',\n",
       " 'few',\n",
       " 'times',\n",
       " 'ago',\n",
       " 'the',\n",
       " 'accident',\n",
       " 'left',\n",
       " 'a',\n",
       " 'little',\n",
       " 'bit',\n",
       " 'trauma',\n",
       " 'for',\n",
       " 'her',\n",
       " 'although',\n",
       " 'shes',\n",
       " '']"
      ]
     },
     "execution_count": 10,
     "metadata": {},
     "output_type": "execute_result"
    }
   ],
   "source": [
    "clean_up_tweet(s2)"
   ]
  },
  {
   "cell_type": "code",
   "execution_count": 11,
   "id": "3d01a536",
   "metadata": {},
   "outputs": [
    {
     "data": {
      "text/plain": [
       "0            [just, happened, a, terrible, car, crash]\n",
       "1    [heard, about, earthquake, is, different, citi...\n",
       "2    [there, is, a, forest, fire, at, spot, pond, g...\n",
       "3           [apocalypse, lighting, spokane, wildfires]\n",
       "4    [typhoon, soudelor, kills, , in, china, and, t...\n",
       "Name: text, dtype: object"
      ]
     },
     "execution_count": 11,
     "metadata": {},
     "output_type": "execute_result"
    }
   ],
   "source": [
    "df_test['text'].head().map(clean_up_tweet)"
   ]
  },
  {
   "cell_type": "code",
   "execution_count": 12,
   "id": "4d23f777",
   "metadata": {},
   "outputs": [
    {
     "data": {
      "text/plain": [
       "0                   Just happened a terrible car crash\n",
       "1    Heard about #earthquake is different cities, s...\n",
       "2    there is a forest fire at spot pond, geese are...\n",
       "3             Apocalypse lighting. #Spokane #wildfires\n",
       "4        Typhoon Soudelor kills 28 in China and Taiwan\n",
       "Name: text, dtype: object"
      ]
     },
     "execution_count": 12,
     "metadata": {},
     "output_type": "execute_result"
    }
   ],
   "source": [
    "df_test['text'].head()"
   ]
  },
  {
   "cell_type": "code",
   "execution_count": 13,
   "id": "c03e38e6",
   "metadata": {},
   "outputs": [
    {
     "name": "stdout",
     "output_type": "stream",
     "text": [
      "(6090, 5)\n",
      "(1523, 5)\n"
     ]
    }
   ],
   "source": [
    "train, valid = train_test_split(df_train, train_size=0.8, shuffle=True, random_state=42)\n",
    "print(train.shape)\n",
    "print(valid.shape)"
   ]
  },
  {
   "cell_type": "code",
   "execution_count": 15,
   "id": "86dc3432",
   "metadata": {},
   "outputs": [
    {
     "name": "stdout",
     "output_type": "stream",
     "text": [
      "(6090,)\n",
      "(1523,)\n",
      "(3263,)\n"
     ]
    },
    {
     "data": {
      "text/plain": [
       "pandas.core.series.Series"
      ]
     },
     "execution_count": 15,
     "metadata": {},
     "output_type": "execute_result"
    }
   ],
   "source": [
    "train_x = train['text'].map(clean_up_tweet)\n",
    "valid_x = valid['text'].map(clean_up_tweet)\n",
    "test_x = df_test['text'].map(clean_up_tweet)\n",
    "\n",
    "print(train_x.shape)\n",
    "print(valid_x.shape)\n",
    "print(test_x.shape)\n",
    "type(train_x)"
   ]
  },
  {
   "cell_type": "code",
   "execution_count": 18,
   "id": "fc93a03d",
   "metadata": {},
   "outputs": [
    {
     "name": "stdout",
     "output_type": "stream",
     "text": [
      "[1. 0. 1. 1. 0.]\n",
      "[0. 0. 0. 1. 1.]\n",
      "0.43054187192118226\n",
      "0.4261326329612607\n"
     ]
    }
   ],
   "source": [
    "train_y = np.array(train['target'], dtype=np.float32)\n",
    "valid_y = np.array(valid['target'], dtype=np.float32)\n",
    "print(train_y[:5])\n",
    "print(train_y[-5:])\n",
    "print(np.sum(train_y)/len(train_y))\n",
    "print(np.sum(valid_y)/len(valid_y))"
   ]
  },
  {
   "cell_type": "code",
   "execution_count": 20,
   "id": "7b9d20ec",
   "metadata": {},
   "outputs": [
    {
     "name": "stdout",
     "output_type": "stream",
     "text": [
      "54\n",
      "30\n",
      "34\n"
     ]
    }
   ],
   "source": [
    "train['tweet_word_counts'] = [len(x) for x in train_x]\n",
    "valid['tweet_word_counts'] = [len(x) for x in valid_x]\n",
    "df_test['tweet_word_counts'] = [len(x) for x in test_x]\n",
    "print(np.max(train['tweet_word_counts']) )\n",
    "print(np.max(valid['tweet_word_counts']) )\n",
    "print(np.max(df_test['tweet_word_counts']) )"
   ]
  },
  {
   "cell_type": "code",
   "execution_count": 21,
   "id": "6427370d",
   "metadata": {},
   "outputs": [
    {
     "data": {
      "text/plain": [
       "array([[-0.57835 , -0.079743,  0.23589 ,  0.14232 , -0.74898 ,  0.091366,\n",
       "        -0.14814 , -0.14615 , -0.68526 ,  0.31882 , -0.56023 , -0.057425,\n",
       "         0.14159 , -0.072444,  0.61525 , -0.50256 ,  0.42331 , -0.76756 ,\n",
       "         0.51353 , -0.39777 ,  0.38048 ,  0.4395  ,  0.73211 ,  0.28665 ,\n",
       "        -0.32091 , -0.52521 , -0.54786 ,  0.31282 , -0.027817,  0.89241 ,\n",
       "         0.91175 ,  0.13016 , -0.6932  , -0.23235 ,  1.2732  ,  0.033154,\n",
       "         0.5625  ,  0.26646 , -0.29519 , -1.2666  , -0.029055, -0.31218 ,\n",
       "        -0.32454 , -0.3499  , -0.015618, -0.39364 , -0.37477 ,  0.27252 ,\n",
       "        -1.3312  , -1.0447  ,  0.47559 , -0.23485 ,  0.1743  ,  0.68365 ,\n",
       "        -0.40499 , -1.8036  ,  0.2963  , -0.070282,  1.471   , -0.20166 ,\n",
       "         0.045613, -0.34433 , -0.32697 ,  0.15731 ,  0.9668  , -0.051295,\n",
       "        -0.12976 ,  0.55869 , -0.20778 , -0.10335 , -0.015856, -0.78811 ,\n",
       "         0.24645 ,  0.18674 ,  0.2534  , -0.7372  , -0.14293 , -0.74162 ,\n",
       "         0.1976  , -0.63874 ,  0.040931,  0.043692, -0.39629 ,  0.57154 ,\n",
       "         0.007759,  0.34247 , -0.42337 ,  0.67995 ,  0.50617 , -0.7667  ,\n",
       "        -0.89381 , -0.18882 , -0.1583  , -0.37053 ,  0.42761 ,  0.73701 ,\n",
       "        -0.25237 ,  0.35373 , -0.8653  ,  0.80499 ]], dtype=float32)"
      ]
     },
     "execution_count": 21,
     "metadata": {},
     "output_type": "execute_result"
    }
   ],
   "source": [
    "neutral = glove_vector_dict[\"neutral\"]\n",
    "placeHolder = np.array([neutral])\n",
    "placeHolder"
   ]
  },
  {
   "cell_type": "code",
   "execution_count": 55,
   "id": "5152c35d",
   "metadata": {},
   "outputs": [],
   "source": [
    "def glove_word_embeddings(word_lists, pad_to=54):\n",
    "    ## We plan to replace all the words in the tweets\n",
    "    ## with embeddings from the GloVe dictionary, skipping\n",
    "    ## any words not found, and also padding the sequence \n",
    "    ## of embeddings to a fixed length.\n",
    "    \n",
    "    ## If none of the words match for a given tweet we will substitute\n",
    "    ## a with place holder vector of one word, \"neutral\".\n",
    "    d = glove_vector_dict\n",
    "    neutral = d[\"neutral\"]\n",
    "    placeHolder = np.array([neutral])\n",
    "    padNeutral = pad_sequences(placeHolder.T, pad_to, dtype='float32')\n",
    "    ## print('padNeutral',padNeutral)\n",
    "    outer = []\n",
    "    for word_list in word_lists:\n",
    "        enc_list = []\n",
    "        for word in word_list:\n",
    "            ## print(word)\n",
    "            if(type(d.get(word)) is np.ndarray):\n",
    "                enc_list.append(d.get(word))\n",
    "                ## print(d.get(word))\n",
    "        if(len(enc_list) > 0):\n",
    "            enc_array = np.array(enc_list)\n",
    "#             print('shape: ',enc_array.shape)\n",
    "#             print('enc_array = ',enc_array)\n",
    "#             print('enc_array.T', enc_array.T)\n",
    "            pad = pad_sequences(enc_array.T, pad_to, dtype='float32')\n",
    "#             print('pad',pad)\n",
    "            outer.append(pad.T)\n",
    "#             print('outer shape',outer.shape)\n",
    "#             print('outer', outer)\n",
    "        else:\n",
    "            outer.append(padNeutral.T)\n",
    "    return np.array(outer)"
   ]
  },
  {
   "cell_type": "code",
   "execution_count": 56,
   "id": "9b7af260",
   "metadata": {},
   "outputs": [
    {
     "data": {
      "text/plain": [
       "array([[[-1.8970e-01,  5.0024e-02,  1.9084e-01, -4.9184e-02,\n",
       "         -8.9737e-02,  2.1006e-01, -5.4952e-01,  9.8377e-02,\n",
       "         -2.0135e-01,  3.4241e-01, -9.2677e-02,  1.6100e-01,\n",
       "         -1.3268e-01, -2.8160e-01,  1.8737e-01, -4.2959e-01,\n",
       "          9.6039e-01,  1.3972e-01, -1.0781e+00,  4.0518e-01,\n",
       "          5.0539e-01, -5.5064e-01,  4.8440e-01,  3.8044e-01,\n",
       "         -2.9055e-03, -3.4942e-01, -9.9696e-02, -7.8368e-01,\n",
       "          1.0363e+00, -2.3140e-01, -4.7121e-01,  5.7126e-01,\n",
       "         -2.1454e-01,  3.5958e-01, -4.8319e-01,  1.0875e+00,\n",
       "          2.8524e-01,  1.2447e-01, -3.9248e-02, -7.6732e-02,\n",
       "         -7.6343e-01, -3.2409e-01, -5.7490e-01, -1.0893e+00,\n",
       "         -4.1811e-01,  4.5120e-01,  1.2112e-01, -5.1367e-01,\n",
       "         -1.3349e-01, -1.1378e+00, -2.8768e-01,  1.6774e-01,\n",
       "          5.5804e-01,  1.5387e+00,  1.8859e-02, -2.9721e+00,\n",
       "         -2.4216e-01, -9.2495e-01,  2.1992e+00,  2.8234e-01,\n",
       "         -3.4780e-01,  5.1621e-01, -4.3387e-01,  3.6852e-01,\n",
       "          7.4573e-01,  7.2102e-02,  2.7931e-01,  9.2569e-01,\n",
       "         -5.0336e-02, -8.5856e-01, -1.3580e-01, -9.2551e-01,\n",
       "         -3.3991e-01, -1.0394e+00, -6.7203e-02, -2.1379e-01,\n",
       "         -4.7690e-01,  2.1377e-01, -8.4008e-01,  5.2536e-02,\n",
       "          5.9298e-01,  2.9604e-01, -6.7644e-01,  1.3916e-01,\n",
       "         -1.5504e+00, -2.0765e-01,  7.2220e-01,  5.2056e-01,\n",
       "         -7.6221e-02, -1.5194e-01, -1.3134e-01,  5.8617e-02,\n",
       "         -3.1869e-01, -6.1419e-01, -6.2393e-01, -4.1548e-01,\n",
       "         -3.8175e-02, -3.9804e-01,  4.7647e-01, -1.5983e-01],\n",
       "        [-3.6531e-01,  3.1785e-01, -3.2047e-01,  5.1639e-02,\n",
       "         -1.2438e-01,  1.2544e-01, -4.1438e-01,  1.3166e-01,\n",
       "          7.5865e-02,  4.3298e-01, -5.4236e-01, -5.1881e-01,\n",
       "         -2.7122e-02,  4.4410e-01,  4.4092e-01, -1.4425e-01,\n",
       "          8.8506e-01,  4.5246e-01, -3.3316e-01, -1.2570e-02,\n",
       "          9.7519e-02, -3.0323e-01,  2.5097e-01,  1.0618e-01,\n",
       "         -2.5461e-01, -2.9241e-02, -1.9771e-01, -4.5984e-01,\n",
       "         -4.9765e-02,  2.9928e-01, -3.1277e-02,  1.0638e+00,\n",
       "         -1.1893e+00,  1.8282e-02,  4.7727e-01,  4.6757e-01,\n",
       "         -1.5711e-01,  7.6616e-02,  3.2928e-01,  4.3149e-02,\n",
       "         -2.6667e-01, -3.8438e-01, -3.3516e-01, -2.5737e-01,\n",
       "         -1.6917e-01, -2.1292e-02,  7.3796e-02, -7.6374e-01,\n",
       "         -1.0372e-01, -9.5670e-01,  1.7993e-01,  9.8334e-01,\n",
       "         -9.8011e-02,  1.2885e+00, -3.5486e-03, -2.1031e+00,\n",
       "          1.6070e-01, -4.6370e-01,  2.1013e+00, -3.2036e-01,\n",
       "         -2.3991e-01,  5.1333e-01,  3.3583e-01,  5.1771e-01,\n",
       "          1.1415e+00, -2.5423e-01,  5.9353e-01, -2.9084e-01,\n",
       "          1.0496e-01, -5.3962e-01, -5.2607e-01, -4.1240e-01,\n",
       "          2.4496e-01, -1.6256e-01, -1.6978e-01, -1.7633e-01,\n",
       "         -3.1187e-02,  2.2001e-01, -8.3047e-01,  1.5507e-01,\n",
       "          1.1127e+00, -8.1439e-01, -6.5009e-01,  1.8613e-01,\n",
       "         -1.7722e+00,  6.2818e-01,  7.0274e-01,  1.5294e-01,\n",
       "          6.3443e-02, -1.6877e-02, -2.5586e-01, -7.9651e-02,\n",
       "          1.1520e-01, -3.9382e-01, -2.8579e-01, -6.6355e-01,\n",
       "         -5.5221e-01, -7.0364e-01,  9.6909e-01,  2.1153e-02],\n",
       "        [ 6.1438e-01,  1.0666e+00,  9.4768e-01, -1.2901e-01,\n",
       "         -4.7135e-01, -1.6396e+00, -4.1147e-01,  7.3988e-01,\n",
       "         -2.8457e-02,  1.9010e+00,  1.2935e-01, -9.1937e-01,\n",
       "          2.1429e-01,  7.1509e-01,  3.9631e-01,  5.2429e-01,\n",
       "          3.4238e-01,  7.5328e-01, -7.1576e-01, -9.7897e-01,\n",
       "         -1.3132e-03, -4.2663e-01,  4.0920e-02, -9.6300e-01,\n",
       "          4.7058e-02,  6.7391e-01, -6.4693e-01,  1.3281e+00,\n",
       "          3.9026e-01,  1.3696e+00,  1.2002e-01, -4.9607e-01,\n",
       "         -1.3421e+00,  6.4414e-01, -3.4454e-01, -2.4689e-01,\n",
       "          1.2494e+00, -7.4036e-01, -1.8447e-01, -2.7877e-01,\n",
       "         -2.4056e-01,  5.3011e-01, -1.6231e-01, -1.8753e-01,\n",
       "          2.8294e-01, -5.5935e-01,  1.4763e-01,  1.8048e-01,\n",
       "         -6.6075e-01,  1.0976e-01,  5.2352e-01, -1.4817e-01,\n",
       "         -3.2868e-01,  9.1876e-01, -1.8178e-01, -1.3263e+00,\n",
       "         -9.9269e-01,  2.9893e-01,  1.0669e+00, -1.0736e-01,\n",
       "          4.7616e-01,  2.3375e-01, -1.2262e-01, -9.0740e-02,\n",
       "          1.0680e+00,  2.4196e-01,  1.0062e-01,  1.0463e+00,\n",
       "          2.4858e-02,  5.7001e-01,  1.6048e-01, -5.7598e-01,\n",
       "          4.1865e-01, -1.6900e-01, -5.6530e-01, -1.5075e-01,\n",
       "         -7.7998e-02, -1.1868e+00, -1.7509e+00,  1.9241e-01,\n",
       "          8.6718e-01,  6.8661e-01,  6.4301e-02,  3.7562e-01,\n",
       "         -8.5926e-01,  8.0552e-01,  1.0002e+00,  5.2108e-01,\n",
       "          3.8332e-01, -1.1411e-01, -3.6761e-01,  5.3256e-01,\n",
       "          1.0620e-01,  4.3499e-01, -2.2773e-01, -4.5615e-01,\n",
       "         -2.5221e-01, -2.0188e-01,  1.4433e-01, -3.8815e-01],\n",
       "        [-5.1737e-01,  6.7008e-01, -2.9651e-02, -7.3860e-01,\n",
       "          1.4512e-01,  2.8930e-01,  3.1469e-01, -2.5834e-02,\n",
       "          6.8313e-01,  2.1249e+00,  8.2737e-01,  5.1467e-02,\n",
       "          2.7282e-01,  1.2407e+00,  5.7461e-02,  9.0143e-01,\n",
       "         -6.9999e-02,  3.6999e-02, -9.5994e-01,  5.1862e-02,\n",
       "          8.8490e-01, -7.2432e-01,  2.9531e-01, -8.3296e-01,\n",
       "         -1.8305e-02,  1.8601e-01, -3.8575e-01,  7.5082e-01,\n",
       "         -1.8182e-01,  7.4373e-01, -3.2542e-01, -3.0949e-01,\n",
       "          5.5913e-02,  4.9645e-01,  1.4176e-01, -4.2837e-01,\n",
       "          3.7072e-01, -4.6903e-01,  7.0060e-01,  5.6325e-01,\n",
       "         -1.2873e-01,  5.7630e-02,  1.1156e+00, -3.7415e-01,\n",
       "          6.6822e-01,  7.8093e-02,  4.0486e-01,  2.1578e-01,\n",
       "         -8.3980e-01, -5.4327e-01, -1.7044e-01,  5.0108e-01,\n",
       "         -1.8644e-01,  1.1879e+00, -7.4442e-01, -1.9035e+00,\n",
       "         -1.1216e+00,  4.9935e-01,  1.7585e+00,  9.6104e-02,\n",
       "          9.6139e-02,  1.5203e+00,  5.4279e-01,  3.5675e-01,\n",
       "         -5.5548e-02, -1.5721e-01, -3.8882e-01, -1.5273e-01,\n",
       "         -3.5632e-01,  2.1487e-01, -5.3805e-01, -6.5829e-01,\n",
       "          2.6204e-01, -2.6519e-01, -2.6225e-01,  4.3873e-01,\n",
       "          1.4172e+00, -4.2517e-01, -1.3216e+00,  5.2509e-01,\n",
       "          7.8635e-01,  6.1809e-02, -6.4796e-01, -4.5048e-01,\n",
       "         -4.6517e-01, -3.6998e-01,  6.6681e-01,  2.6963e-01,\n",
       "         -7.3925e-01,  1.1174e-01,  4.7920e-01,  5.1396e-01,\n",
       "          3.5428e-02,  1.9469e-01, -4.7630e-01,  5.6731e-01,\n",
       "          7.0208e-01, -9.6205e-02,  4.0993e-01, -3.3929e-01],\n",
       "        [ 8.5703e-02, -2.2201e-01,  1.6569e-01,  1.3373e-01,\n",
       "          3.8239e-01,  3.5401e-01,  1.2870e-02,  2.2461e-01,\n",
       "         -4.3817e-01,  5.0164e-01, -3.5874e-01, -3.4983e-01,\n",
       "          5.5156e-02,  6.9648e-01, -1.7958e-01,  6.7926e-02,\n",
       "          3.9101e-01,  1.6039e-01, -2.6635e-01, -2.1138e-01,\n",
       "          5.3698e-01,  4.9379e-01,  9.3660e-01,  6.6902e-01,\n",
       "          2.1793e-01, -4.6642e-01,  2.2383e-01, -3.6204e-01,\n",
       "         -1.7656e-01,  1.7480e-01, -2.0367e-01,  1.3931e-01,\n",
       "          1.9832e-02, -1.0413e-01, -2.0244e-01,  5.5003e-01,\n",
       "         -1.5460e-01,  9.8655e-01, -2.6863e-01, -2.9090e-01,\n",
       "         -3.2866e-01, -3.4188e-01, -1.6943e-01, -4.2001e-01,\n",
       "         -4.6727e-02, -1.6327e-01,  7.0824e-01, -7.4911e-01,\n",
       "         -9.1559e-02, -9.6178e-01, -1.9747e-01,  1.0282e-01,\n",
       "          5.5221e-01,  1.3816e+00, -6.5636e-01, -3.2502e+00,\n",
       "         -3.1556e-01, -1.2055e+00,  1.7709e+00,  4.0260e-01,\n",
       "         -7.9827e-01,  1.1597e+00, -3.3042e-01,  3.1382e-01,\n",
       "          7.7386e-01,  2.2595e-01,  5.2471e-01, -3.4053e-02,\n",
       "          3.2048e-01,  7.9948e-02,  1.7752e-01, -4.9426e-01,\n",
       "         -7.0045e-01, -4.4569e-01,  1.7244e-01,  2.0278e-01,\n",
       "          2.3292e-02, -2.0677e-01, -1.0158e+00,  1.8325e-01,\n",
       "          5.6752e-01,  3.1821e-01, -6.5011e-01,  6.8277e-01,\n",
       "         -8.6585e-01, -5.9392e-02, -2.9264e-01, -5.5668e-01,\n",
       "         -3.4705e-01, -3.2895e-01,  4.0215e-01, -1.2746e-01,\n",
       "         -2.0228e-01,  8.7368e-01, -5.4500e-01,  7.9205e-01,\n",
       "         -2.0695e-01, -7.4273e-02,  7.5808e-01, -3.4243e-01],\n",
       "        [ 2.4017e-01,  2.0784e+00,  6.7341e-01, -1.5549e-01,\n",
       "         -2.7015e-01, -6.1829e-01, -1.7479e-01, -1.3737e-01,\n",
       "          4.4451e-01,  1.2256e+00, -1.8435e-01, -4.2402e-01,\n",
       "          1.1930e-01,  3.5634e-01,  6.7202e-01,  8.1507e-02,\n",
       "          3.3331e-01,  1.0020e+00, -8.8189e-01, -7.0840e-01,\n",
       "          1.0484e+00, -4.8924e-01, -4.5766e-01,  8.3183e-01,\n",
       "          2.5053e-01,  3.5288e-01, -8.8471e-01,  7.1104e-01,\n",
       "          1.9899e-01,  4.9978e-01, -4.8443e-02, -2.4993e-01,\n",
       "         -2.0181e-02,  1.5584e+00, -7.1961e-01, -1.9772e-01,\n",
       "          4.4153e-01, -5.8987e-02,  1.1120e-02, -4.1924e-01,\n",
       "          3.1257e-01, -1.4547e-01,  3.1251e-01,  1.0143e-01,\n",
       "          5.7373e-01, -1.3305e-01,  1.3513e+00, -3.0493e-01,\n",
       "         -8.2094e-01, -4.8355e-03, -5.4047e-01, -4.5618e-01,\n",
       "         -3.6123e-01,  2.1824e-01, -1.0138e+00, -3.3013e-01,\n",
       "         -2.6974e-01,  4.4725e-01,  2.6898e-01,  4.0298e-01,\n",
       "         -4.7015e-01,  1.3001e+00, -7.4274e-02, -2.6947e-01,\n",
       "         -3.9946e-01,  1.1548e-01, -6.5452e-01,  8.7623e-01,\n",
       "         -5.3458e-01,  3.0127e-01, -8.9768e-01, -1.7489e-01,\n",
       "         -6.3137e-02,  3.8154e-01, -7.7431e-01,  6.2637e-01,\n",
       "          2.6002e-01, -1.2807e-01, -1.0898e+00,  1.0877e-01,\n",
       "         -1.0389e-01,  5.5141e-01, -9.7876e-01,  6.7232e-01,\n",
       "         -6.1113e-02,  8.6915e-01, -7.5123e-01,  8.8148e-01,\n",
       "          7.0137e-01,  4.3691e-01,  6.4926e-01,  2.1116e-01,\n",
       "          5.1995e-01,  4.4726e-01, -2.6402e-01, -4.7329e-01,\n",
       "          1.5769e-01,  5.0879e-01, -6.2539e-02,  2.1509e-01],\n",
       "        [-3.0552e-02,  4.1459e-01,  8.8288e-01,  1.1641e+00,\n",
       "         -6.0009e-01, -7.1323e-01, -8.6607e-01, -1.3211e+00,\n",
       "          4.0487e-02,  1.9679e-01, -2.4646e-02,  3.3951e-01,\n",
       "          5.8089e-01,  2.1976e-01,  1.3038e-02,  3.0030e-01,\n",
       "          2.1942e-01, -3.6210e-01, -2.1464e-01, -1.9971e-01,\n",
       "          1.4443e+00, -2.8253e-01, -1.5849e-01,  3.5769e-01,\n",
       "         -1.3507e-01,  7.6999e-02, -3.7504e-01, -3.4031e-01,\n",
       "          3.5850e-01,  5.1783e-01, -6.3662e-01,  1.1948e+00,\n",
       "         -1.0039e+00,  2.3303e-01,  2.8240e-01,  3.5121e-01,\n",
       "          3.1343e-01, -5.4605e-01,  1.6631e-01, -8.7441e-01,\n",
       "         -6.9357e-02, -5.4998e-01,  4.4729e-02,  1.1225e+00,\n",
       "          9.1915e-01, -1.8137e-01,  3.6569e-01, -6.6694e-02,\n",
       "         -2.2788e-01, -4.6143e-01, -1.9773e-01, -2.9700e-01,\n",
       "          2.2681e-03,  4.5325e-01,  9.3975e-02, -1.2135e+00,\n",
       "         -9.8206e-01,  5.4338e-02,  2.2029e+00,  1.0333e+00,\n",
       "         -3.2581e-01,  9.7877e-01, -3.4732e-01,  6.2888e-01,\n",
       "          1.4959e-01,  3.3789e-01, -2.1372e-01,  7.4117e-01,\n",
       "          3.8422e-01,  1.3440e-01, -4.7642e-01,  2.4641e-01,\n",
       "         -4.1786e-01,  2.1055e-01, -6.8829e-01,  1.9325e+00,\n",
       "         -5.8919e-01,  1.0437e+00, -9.2394e-01, -2.8663e-01,\n",
       "          7.0857e-01, -2.6243e-02, -2.0540e-02,  4.5685e-01,\n",
       "         -9.9100e-01, -4.3840e-01, -7.2376e-01,  2.8039e-01,\n",
       "          7.3471e-01, -7.9376e-01,  4.8065e-01, -4.2596e-01,\n",
       "          5.6524e-01, -3.0927e-01, -2.4352e-01, -1.6075e-01,\n",
       "         -9.7015e-01, -4.2772e-02,  7.4935e-01,  3.1989e-02],\n",
       "        [-6.1705e-01,  2.4556e-01, -1.2763e-01,  4.4811e-01,\n",
       "         -3.1334e-01, -1.0556e-01, -5.7768e-01, -1.3341e-01,\n",
       "         -1.0770e-01,  1.3746e+00,  4.8171e-02, -1.2028e-01,\n",
       "          7.1118e-01,  5.6405e-01, -1.2837e-01,  5.0052e-02,\n",
       "          7.5063e-01, -6.6891e-01, -5.3914e-01, -1.7633e-01,\n",
       "          9.0628e-01, -4.2358e-01,  4.7614e-01, -2.3071e-01,\n",
       "         -6.6152e-01,  1.4561e-02, -4.4352e-01, -3.1137e-01,\n",
       "          7.9809e-01, -4.8347e-02,  1.1616e-01, -1.6430e-01,\n",
       "         -6.0885e-01, -5.2113e-01,  1.7303e-01,  1.9728e-01,\n",
       "         -1.0716e-01,  2.1075e-02, -1.8415e-01,  2.4534e-01,\n",
       "         -6.3442e-01,  5.2319e-02,  7.1578e-01,  2.2589e-01,\n",
       "          5.5800e-01, -4.5769e-01,  9.8370e-02, -8.6677e-02,\n",
       "         -4.0387e-01, -5.5339e-01,  4.1761e-01, -1.7984e-01,\n",
       "         -9.0911e-02,  1.6564e+00,  2.6582e-01, -1.6860e+00,\n",
       "          1.8443e-01, -8.9305e-01,  2.4937e+00,  8.0885e-01,\n",
       "         -3.0559e-01,  3.4702e-01,  3.2270e-01,  2.6455e-01,\n",
       "          4.8152e-01, -4.0948e-01, -4.7729e-01, -4.0116e-02,\n",
       "         -4.2792e-01,  1.9152e+00,  6.3685e-01, -1.1247e+00,\n",
       "         -4.5709e-01, -7.6020e-01,  9.0950e-02,  2.9940e-01,\n",
       "          1.1447e-01,  9.9910e-01, -1.2072e+00,  6.2891e-01,\n",
       "          1.3450e+00, -1.0297e-01,  4.7065e-01,  1.3026e-01,\n",
       "         -1.2734e+00,  2.3595e-01,  4.0469e-01,  4.9411e-03,\n",
       "          2.8565e-01, -9.6233e-01,  3.0662e-01, -3.9246e-01,\n",
       "         -3.4099e-01,  2.3123e-01, -7.6097e-01,  6.8257e-02,\n",
       "         -7.5085e-02, -6.1296e-01,  2.6871e-03,  6.4299e-01],\n",
       "        [ 3.0172e-01, -3.1283e-01, -2.9321e-01,  3.1880e-01,\n",
       "         -3.9374e-01,  1.4514e-01, -5.5492e-01,  5.6692e-01,\n",
       "          7.1169e-01,  1.7786e-01, -1.1339e-01,  5.9841e-01,\n",
       "          2.6955e-01,  1.0708e-01, -3.7577e-01, -2.3398e-01,\n",
       "          3.7256e-01, -1.5047e-01, -7.4767e-01, -2.2922e-01,\n",
       "          1.3596e-01, -4.0819e-01,  1.0162e-01, -7.3097e-02,\n",
       "         -3.9265e-01, -2.2676e-01, -4.5427e-01, -5.8123e-01,\n",
       "          1.0864e+00,  2.6927e-02,  5.8626e-01,  4.1351e-01,\n",
       "         -6.0723e-01,  4.4364e-01,  1.7546e-01,  7.8047e-01,\n",
       "          1.5022e-01,  1.1429e-02, -4.2781e-01, -1.8927e-02,\n",
       "         -1.1308e+00,  2.4825e-01,  6.0957e-01, -5.0490e-01,\n",
       "          1.4755e-01, -1.9364e-01, -2.6085e-01, -2.7299e-01,\n",
       "          5.4156e-01, -7.2118e-01,  8.8878e-01,  8.8164e-02,\n",
       "          4.3275e-01,  8.6858e-01,  1.0974e-01, -1.3584e+00,\n",
       "         -4.5491e-01, -4.5227e-01,  1.2906e+00,  5.0033e-01,\n",
       "          1.0630e-01, -5.3222e-01, -1.3967e-01, -3.2562e-02,\n",
       "          8.6258e-01, -8.3977e-01,  8.9095e-02,  1.1804e+00,\n",
       "         -7.1526e-01,  2.8275e-01, -5.1019e-01, -4.4592e-01,\n",
       "         -3.1090e-01, -8.0098e-01, -4.4098e-01,  2.7506e-01,\n",
       "         -4.8830e-01, -1.1413e-01, -9.5669e-01, -8.3121e-03,\n",
       "          5.1782e-01, -5.2368e-01, -1.7871e-01, -1.0731e-01,\n",
       "         -1.1745e+00, -4.5622e-01,  1.8721e-01,  6.8635e-01,\n",
       "         -3.7028e-02,  3.9246e-01,  1.1325e-01, -1.0427e+00,\n",
       "         -2.4426e-01, -9.7616e-02, -6.4454e-01,  4.9591e-01,\n",
       "         -3.6823e-01,  5.8047e-01,  2.3856e-01, -2.1257e-01],\n",
       "        [ 3.2314e-01, -2.8602e-01,  2.5893e-01,  4.7132e-01,\n",
       "         -1.8749e-01,  2.7926e-01, -3.1222e-02, -3.6132e-01,\n",
       "          3.1671e-01,  2.3897e-01,  6.4852e-01,  1.1412e+00,\n",
       "          2.4164e-02,  3.5895e-01,  3.2754e-01, -2.5261e-01,\n",
       "          5.0337e-01, -4.5188e-01, -1.1190e+00, -3.7694e-01,\n",
       "          1.0946e+00, -9.9613e-01, -2.7026e-02, -3.8558e-01,\n",
       "         -2.4420e-01,  6.1790e-01, -2.5935e-01, -2.3036e-01,\n",
       "          1.0170e+00, -6.3974e-01,  1.3511e-01, -3.9997e-01,\n",
       "         -3.3846e-01, -2.2887e-01,  4.3298e-01,  1.2857e-01,\n",
       "          7.7761e-01, -7.0721e-01,  6.4632e-02, -6.0949e-01,\n",
       "         -1.1196e-01,  3.2177e-01,  1.2263e+00, -1.4458e-01,\n",
       "          3.7544e-01, -4.8593e-01,  1.1136e-01,  6.4378e-02,\n",
       "          1.5517e-01, -5.5285e-01,  4.7002e-02,  1.9373e-01,\n",
       "          2.1567e-01,  8.0757e-01,  2.2276e-01, -4.9492e-01,\n",
       "          2.4592e-01, -9.6245e-01,  1.3597e+00,  8.3068e-02,\n",
       "          1.3025e-01,  3.9716e-01, -6.6914e-01, -7.6966e-01,\n",
       "          5.1586e-01, -6.8805e-01, -1.5970e-01,  8.9775e-01,\n",
       "         -8.4840e-01,  1.6297e-01, -5.0192e-01, -7.4355e-01,\n",
       "         -3.6056e-01, -9.2933e-01, -3.7152e-01,  5.9955e-01,\n",
       "         -6.1441e-01, -2.4180e-01, -6.1913e-01,  2.4565e-01,\n",
       "          1.0060e+00, -2.7913e-01, -2.6987e-01,  3.9665e-01,\n",
       "         -7.1298e-01,  1.3516e-01,  5.3521e-01, -4.3937e-02,\n",
       "          5.5750e-01,  4.2296e-01, -1.6794e-01, -6.5506e-01,\n",
       "          3.5106e-01,  6.4099e-01, -7.9180e-01, -5.0021e-01,\n",
       "          1.4867e-01,  4.7441e-01, -5.6446e-03,  1.9327e-01]]],\n",
       "      dtype=float32)"
      ]
     },
     "execution_count": 56,
     "metadata": {},
     "output_type": "execute_result"
    }
   ],
   "source": [
    "aa = glove_word_embeddings(train_x[0:1],pad_to=10)\n",
    "aa"
   ]
  },
  {
   "cell_type": "code",
   "execution_count": 57,
   "id": "e96a5605",
   "metadata": {},
   "outputs": [
    {
     "name": "stdout",
     "output_type": "stream",
     "text": [
      "(6090,)\n",
      "(1523,)\n",
      "(3263,)\n"
     ]
    }
   ],
   "source": [
    "print (train_x.shape)\n",
    "print (valid_x.shape)\n",
    "print (test_x.shape)"
   ]
  },
  {
   "cell_type": "code",
   "execution_count": null,
   "id": "7111bbcb",
   "metadata": {},
   "outputs": [],
   "source": []
  },
  {
   "cell_type": "code",
   "execution_count": 58,
   "id": "2152d778",
   "metadata": {},
   "outputs": [
    {
     "name": "stdout",
     "output_type": "stream",
     "text": [
      "elapsed seconds = 2.5990195274353027\n",
      "(6090, 54, 100)\n",
      "(1523, 54, 100)\n",
      "(3263, 54, 100)\n"
     ]
    }
   ],
   "source": [
    "\n",
    "start = time.time()\n",
    "X_train = glove_word_embeddings(train_x)\n",
    "X_valid = glove_word_embeddings(valid_x)\n",
    "X_test = glove_word_embeddings(test_x)\n",
    "end = time.time()\n",
    "print(f'elapsed seconds = {end - start}')\n",
    "print(X_train.shape)\n",
    "print(X_valid.shape)\n",
    "print(X_test.shape)"
   ]
  },
  {
   "cell_type": "code",
   "execution_count": 59,
   "id": "3716caef",
   "metadata": {},
   "outputs": [
    {
     "data": {
      "text/plain": [
       "array([ 0.32314  , -0.28602  ,  0.25893  ,  0.47132  , -0.18749  ,\n",
       "        0.27926  , -0.031222 , -0.36132  ,  0.31671  ,  0.23897  ,\n",
       "        0.64852  ,  1.1412   ,  0.024164 ,  0.35895  ,  0.32754  ,\n",
       "       -0.25261  ,  0.50337  , -0.45188  , -1.119    , -0.37694  ,\n",
       "        1.0946   , -0.99613  , -0.027026 , -0.38558  , -0.2442   ,\n",
       "        0.6179   , -0.25935  , -0.23036  ,  1.017    , -0.63974  ,\n",
       "        0.13511  , -0.39997  , -0.33846  , -0.22887  ,  0.43298  ,\n",
       "        0.12857  ,  0.77761  , -0.70721  ,  0.064632 , -0.60949  ,\n",
       "       -0.11196  ,  0.32177  ,  1.2263   , -0.14458  ,  0.37544  ,\n",
       "       -0.48593  ,  0.11136  ,  0.064378 ,  0.15517  , -0.55285  ,\n",
       "        0.047002 ,  0.19373  ,  0.21567  ,  0.80757  ,  0.22276  ,\n",
       "       -0.49492  ,  0.24592  , -0.96245  ,  1.3597   ,  0.083068 ,\n",
       "        0.13025  ,  0.39716  , -0.66914  , -0.76966  ,  0.51586  ,\n",
       "       -0.68805  , -0.1597   ,  0.89775  , -0.8484   ,  0.16297  ,\n",
       "       -0.50192  , -0.74355  , -0.36056  , -0.92933  , -0.37152  ,\n",
       "        0.59955  , -0.61441  , -0.2418   , -0.61913  ,  0.24565  ,\n",
       "        1.006    , -0.27913  , -0.26987  ,  0.39665  , -0.71298  ,\n",
       "        0.13516  ,  0.53521  , -0.043937 ,  0.5575   ,  0.42296  ,\n",
       "       -0.16794  , -0.65506  ,  0.35106  ,  0.64099  , -0.7918   ,\n",
       "       -0.50021  ,  0.14867  ,  0.47441  , -0.0056446], dtype=float32)"
      ]
     },
     "execution_count": 59,
     "metadata": {},
     "output_type": "execute_result"
    }
   ],
   "source": [
    "X_train[0,53,0:99]"
   ]
  },
  {
   "cell_type": "code",
   "execution_count": 60,
   "id": "b533b765",
   "metadata": {},
   "outputs": [
    {
     "name": "stdout",
     "output_type": "stream",
     "text": [
      "Model: \"sequential_1\"\n",
      "_________________________________________________________________\n",
      " Layer (type)                Output Shape              Param #   \n",
      "=================================================================\n",
      " gru_3 (GRU)                 (None, None, 128)         88320     \n",
      "                                                                 \n",
      " gru_4 (GRU)                 (None, None, 128)         99072     \n",
      "                                                                 \n",
      " gru_5 (GRU)                 (None, 128)               99072     \n",
      "                                                                 \n",
      " dense_1 (Dense)             (None, 1)                 129       \n",
      "                                                                 \n",
      "=================================================================\n",
      "Total params: 286,593\n",
      "Trainable params: 286,593\n",
      "Non-trainable params: 0\n",
      "_________________________________________________________________\n"
     ]
    }
   ],
   "source": [
    "DROPOUT = 0.2\n",
    "\n",
    "# Build model\n",
    "model = Sequential()\n",
    "model.add(GRU(units=128, input_shape=(None, 100), return_sequences=True, dropout=DROPOUT))\n",
    "model.add(GRU(units=128, return_sequences=True, dropout=DROPOUT))\n",
    "model.add(GRU(units=128, return_sequences=False, dropout=DROPOUT))\n",
    "model.add(Dense(1, activation='sigmoid'))\n",
    "\n",
    "opt = tf.keras.optimizers.Adam(learning_rate=0.001)\n",
    "\n",
    "model.compile(loss='binary_crossentropy', optimizer=opt, metrics=['accuracy'])\n",
    "\n",
    "file_name = 'weights_{epoch:03d}_{val_accuracy:.4f}.hdf5'\n",
    "\n",
    "checkpoint_filepath = os.path.join('.', 'SAVE_MODELS', file_name)\n",
    "\n",
    "modelCheckpoint = tf.keras.callbacks.ModelCheckpoint(\n",
    "    filepath=checkpoint_filepath,\n",
    "    save_weights_only=True,\n",
    "    monitor='val_accuracy',\n",
    "    mode='max',\n",
    "    save_best_only=True)\n",
    "\n",
    "earlyStopping = EarlyStopping(monitor='val_loss', mode='min', verbose=1, patience=6, restore_best_weights=True)\n",
    "\n",
    "model.summary()"
   ]
  },
  {
   "cell_type": "code",
   "execution_count": 61,
   "id": "8a50913e",
   "metadata": {},
   "outputs": [
    {
     "name": "stdout",
     "output_type": "stream",
     "text": [
      "Epoch 1/100\n",
      "305/305 [==============================] - 11s 20ms/step - loss: 0.4991 - accuracy: 0.7691 - val_loss: 0.4312 - val_accuracy: 0.8089\n",
      "Epoch 2/100\n",
      "305/305 [==============================] - 5s 17ms/step - loss: 0.4410 - accuracy: 0.8030 - val_loss: 0.4310 - val_accuracy: 0.8188\n",
      "Epoch 3/100\n",
      "305/305 [==============================] - 5s 17ms/step - loss: 0.4294 - accuracy: 0.8079 - val_loss: 0.4251 - val_accuracy: 0.8175\n",
      "Epoch 4/100\n",
      "305/305 [==============================] - 5s 17ms/step - loss: 0.4082 - accuracy: 0.8240 - val_loss: 0.4450 - val_accuracy: 0.7991\n",
      "Epoch 5/100\n",
      "305/305 [==============================] - 5s 17ms/step - loss: 0.4031 - accuracy: 0.8264 - val_loss: 0.4215 - val_accuracy: 0.8142\n",
      "Epoch 6/100\n",
      "305/305 [==============================] - 5s 17ms/step - loss: 0.3800 - accuracy: 0.8369 - val_loss: 0.4378 - val_accuracy: 0.8135\n",
      "Epoch 7/100\n",
      "305/305 [==============================] - 5s 17ms/step - loss: 0.3628 - accuracy: 0.8414 - val_loss: 0.4405 - val_accuracy: 0.8142\n",
      "Epoch 8/100\n",
      "305/305 [==============================] - 5s 17ms/step - loss: 0.3415 - accuracy: 0.8565 - val_loss: 0.4455 - val_accuracy: 0.8102\n",
      "Epoch 9/100\n",
      "305/305 [==============================] - 5s 17ms/step - loss: 0.3240 - accuracy: 0.8631 - val_loss: 0.4840 - val_accuracy: 0.8037\n",
      "Epoch 10/100\n",
      "305/305 [==============================] - 5s 17ms/step - loss: 0.3018 - accuracy: 0.8741 - val_loss: 0.5014 - val_accuracy: 0.7938\n",
      "Epoch 11/100\n",
      "304/305 [============================>.] - ETA: 0s - loss: 0.2787 - accuracy: 0.8877Restoring model weights from the end of the best epoch: 5.\n",
      "305/305 [==============================] - 5s 17ms/step - loss: 0.2791 - accuracy: 0.8877 - val_loss: 0.5394 - val_accuracy: 0.7951\n",
      "Epoch 11: early stopping\n"
     ]
    }
   ],
   "source": [
    "history = model.fit(X_train, train_y, \n",
    "                    batch_size=20, \n",
    "                    epochs=100, \n",
    "                    validation_data=(X_valid,valid_y),\n",
    "                    callbacks=[earlyStopping,modelCheckpoint]\n",
    "                   )"
   ]
  },
  {
   "cell_type": "code",
   "execution_count": 74,
   "id": "23dbd911",
   "metadata": {},
   "outputs": [
    {
     "name": "stdout",
     "output_type": "stream",
     "text": [
      "164/164 [==============================] - 1s 6ms/step\n"
     ]
    },
    {
     "data": {
      "text/html": [
       "<div>\n",
       "<style scoped>\n",
       "    .dataframe tbody tr th:only-of-type {\n",
       "        vertical-align: middle;\n",
       "    }\n",
       "\n",
       "    .dataframe tbody tr th {\n",
       "        vertical-align: top;\n",
       "    }\n",
       "\n",
       "    .dataframe thead th {\n",
       "        text-align: right;\n",
       "    }\n",
       "</style>\n",
       "<table border=\"1\" class=\"dataframe\">\n",
       "  <thead>\n",
       "    <tr style=\"text-align: right;\">\n",
       "      <th></th>\n",
       "      <th>id</th>\n",
       "      <th>target</th>\n",
       "    </tr>\n",
       "  </thead>\n",
       "  <tbody>\n",
       "    <tr>\n",
       "      <th>0</th>\n",
       "      <td>0</td>\n",
       "      <td>1</td>\n",
       "    </tr>\n",
       "    <tr>\n",
       "      <th>1</th>\n",
       "      <td>2</td>\n",
       "      <td>1</td>\n",
       "    </tr>\n",
       "    <tr>\n",
       "      <th>2</th>\n",
       "      <td>3</td>\n",
       "      <td>1</td>\n",
       "    </tr>\n",
       "    <tr>\n",
       "      <th>3</th>\n",
       "      <td>9</td>\n",
       "      <td>1</td>\n",
       "    </tr>\n",
       "    <tr>\n",
       "      <th>4</th>\n",
       "      <td>11</td>\n",
       "      <td>1</td>\n",
       "    </tr>\n",
       "    <tr>\n",
       "      <th>...</th>\n",
       "      <td>...</td>\n",
       "      <td>...</td>\n",
       "    </tr>\n",
       "    <tr>\n",
       "      <th>3258</th>\n",
       "      <td>10861</td>\n",
       "      <td>1</td>\n",
       "    </tr>\n",
       "    <tr>\n",
       "      <th>3259</th>\n",
       "      <td>10865</td>\n",
       "      <td>1</td>\n",
       "    </tr>\n",
       "    <tr>\n",
       "      <th>3260</th>\n",
       "      <td>10868</td>\n",
       "      <td>1</td>\n",
       "    </tr>\n",
       "    <tr>\n",
       "      <th>3261</th>\n",
       "      <td>10874</td>\n",
       "      <td>0</td>\n",
       "    </tr>\n",
       "    <tr>\n",
       "      <th>3262</th>\n",
       "      <td>10875</td>\n",
       "      <td>1</td>\n",
       "    </tr>\n",
       "  </tbody>\n",
       "</table>\n",
       "<p>3263 rows × 2 columns</p>\n",
       "</div>"
      ],
      "text/plain": [
       "         id  target\n",
       "0         0       1\n",
       "1         2       1\n",
       "2         3       1\n",
       "3         9       1\n",
       "4        11       1\n",
       "...     ...     ...\n",
       "3258  10861       1\n",
       "3259  10865       1\n",
       "3260  10868       1\n",
       "3261  10874       0\n",
       "3262  10875       1\n",
       "\n",
       "[3263 rows x 2 columns]"
      ]
     },
     "execution_count": 74,
     "metadata": {},
     "output_type": "execute_result"
    }
   ],
   "source": [
    "sub_num = 2\n",
    "\n",
    "predict_proba = model.predict(X_test,batch_size=20)\n",
    "predict = (predict_proba > 0.5).astype(int)\n",
    "\n",
    "# predict2 = np.reshape(predict,len(predict),)\n",
    "# predict2\n",
    "\n",
    "submission = pd.DataFrame(df_test['id'])\n",
    "submission['target']=predict\n",
    "\n",
    "submission.to_csv(f'data/submission{sub_num}.csv',index=False)\n",
    "submission"
   ]
  },
  {
   "cell_type": "code",
   "execution_count": null,
   "id": "169459f2",
   "metadata": {},
   "outputs": [],
   "source": []
  }
 ],
 "metadata": {
  "kernelspec": {
   "display_name": "Python 3 (ipykernel)",
   "language": "python",
   "name": "python3"
  },
  "language_info": {
   "codemirror_mode": {
    "name": "ipython",
    "version": 3
   },
   "file_extension": ".py",
   "mimetype": "text/x-python",
   "name": "python",
   "nbconvert_exporter": "python",
   "pygments_lexer": "ipython3",
   "version": "3.9.0"
  }
 },
 "nbformat": 4,
 "nbformat_minor": 5
}
